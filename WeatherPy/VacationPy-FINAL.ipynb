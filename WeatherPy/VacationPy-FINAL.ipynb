{
 "cells": [
  {
   "cell_type": "markdown",
   "metadata": {},
   "source": [
    "# VacationPy\n",
    "----\n",
    "\n",
    "#### Note\n",
    "* Instructions have been included for each segment. You do not have to follow them exactly, but they are included to help you think through the steps."
   ]
  },
  {
   "cell_type": "code",
   "execution_count": null,
   "metadata": {},
   "outputs": [],
   "source": [
    "# Dependencies and Setup\n",
    "import matplotlib.pyplot as plt\n",
    "import pandas as pd\n",
    "import numpy as np\n",
    "import requests\n",
    "import json\n",
    "import gmaps\n",
    "import os\n",
    "\n",
    "\n",
    "# Import API key\n",
    "from api_keys import g_key\n",
    "\n",
    "# Configure gmaps\n",
    "gmaps.configure(api_key=g_key)"
   ]
  },
  {
   "cell_type": "markdown",
   "metadata": {},
   "source": [
    "### Store Part I results into DataFrame\n",
    "* Load the csv exported in Part I to a DataFrame"
   ]
  },
  {
   "cell_type": "code",
   "execution_count": null,
   "metadata": {},
   "outputs": [],
   "source": [
    "citiesDF = pd.read_csv(\"output_data/cities.csv\")\n",
    "del citiesDF[\"Unnamed: 0\"]\n",
    "citiesDF.head()"
   ]
  },
  {
   "cell_type": "markdown",
   "metadata": {},
   "source": [
    "### Humidity Heatmap\n",
    "* Configure gmaps.\n",
    "* Use the Lat and Lng as locations and Humidity as the weight.\n",
    "* Add Heatmap layer to map."
   ]
  },
  {
   "cell_type": "code",
   "execution_count": null,
   "metadata": {},
   "outputs": [],
   "source": [
    "# Access maps with unique API key\n",
    "gmaps.configure(api_key=g_key)\n"
   ]
  },
  {
   "cell_type": "code",
   "execution_count": null,
   "metadata": {},
   "outputs": [],
   "source": [
    "# Store latitude and longitude in locations & Humidity   -> for Weight\n",
    "locations = citiesDF[[\"Latitude\",\"Longitude\"]]\n",
    "humidList = citiesDF[\"Humidity\"]"
   ]
  },
  {
   "cell_type": "code",
   "execution_count": null,
   "metadata": {
    "scrolled": true
   },
   "outputs": [],
   "source": [
    "# Customize the size of the figure\n",
    "figure_layout = {\n",
    "    'width': '900px',\n",
    "    'height': '300px',\n",
    "    'border': '1px solid black',\n",
    "    'padding': '1px',\n",
    "    'margin': '0 auto 0 auto'\n",
    "}\n",
    "\n",
    "# Plot Heatmap\n",
    "fig = gmaps.figure(layout=figure_layout)\n",
    "\n",
    "# CREATE heat layer\n",
    "heat_layer = gmaps.heatmap_layer(locations, weights=humidList, dissipating = False, max_intensity =1000, point_radius =5)\n",
    "\n",
    "#Add layer\n",
    "fig.add_layer(heat_layer)\n",
    "\n",
    "#display\n",
    "fig"
   ]
  },
  {
   "cell_type": "markdown",
   "metadata": {},
   "source": [
    "### Create new DataFrame fitting weather criteria\n",
    "* Narrow down the cities to fit weather conditions.\n",
    "* Drop any rows will null values."
   ]
  },
  {
   "cell_type": "code",
   "execution_count": null,
   "metadata": {},
   "outputs": [],
   "source": [
    "#Narrow down the DataFrame to find your ideal weather condition. For example:\n",
    "# Temperature between 26° and 32° Celcius\n",
    "# Wind speed less than 8 mph.\n",
    "# Zero cloudiness.\n",
    "\n",
    "vacTemp = citiesDF.loc[(citiesDF[\"Temperature\"]>26) & (citiesDF[\"Temperature\"]<32)&(citiesDF[\"Cloudiness\"]==0)&(citiesDF[\"Wind Speed\"]<8)]\n",
    "#Drop na values\n",
    "vacTemp.dropna()\n",
    "vacTemp.head()"
   ]
  },
  {
   "cell_type": "markdown",
   "metadata": {},
   "source": [
    "### Hotel Map\n",
    "* Store into variable named `hotel_df`.\n",
    "* Add a \"Hotel Name\" column to the DataFrame.\n",
    "* Set parameters to search for hotels with 5000 meters.\n",
    "* Hit the Google Places API for each city's coordinates.\n",
    "* Store the first Hotel result into the DataFrame.\n",
    "* Plot markers on top of the heatmap."
   ]
  },
  {
   "cell_type": "code",
   "execution_count": null,
   "metadata": {},
   "outputs": [],
   "source": [
    "hotel_df = vacTemp[[\"City ID Number\",\"City\",\"Latitude\",\"Longitude\",\"Temperature\",\"Humidity\",\"Cloudiness\",\"Wind Speed\"]]\n",
    "hotel_df.insert(8,\"Hotel Name\",\"\")\n",
    "hotel_df.insert(9,\"Country\",\"\")\n",
    "hotel_df"
   ]
  },
  {
   "cell_type": "code",
   "execution_count": null,
   "metadata": {},
   "outputs": [],
   "source": [
    "# params dictionary to update each iteration\n",
    "params = {\n",
    "    \"radius\": 5000,\n",
    "    \"keyword\": \"hotel\",\n",
    "    \"key\": g_key\n",
    "}\n",
    "\n",
    "# Use the lat/lng we recovered to identify hotels near city\n",
    "for index, row in hotel_df.iterrows():\n",
    "    # get lat, lng from df\n",
    "    latC = row[\"Latitude\"]\n",
    "    lngC = row[\"Longitude\"]\n",
    "\n",
    "    # change city each iteration while leaving original params in place\n",
    "    params[\"location\"] = f\"{latC},{lngC}\"\n",
    "\n",
    "    # Use the keyword, search term: \"hotel\" and our lat/lng\n",
    "    base_url = \"https://maps.googleapis.com/maps/api/place/nearbysearch/json\"\n",
    "\n",
    "    responseInfo = requests.get(base_url, params=params)\n",
    "    responseInfo = responseInfo.json()\n",
    "\n",
    "    #Get the first hotel found\n",
    "    counter = 0\n",
    "    for place in responseInfo[\"results\"]:\n",
    "    # Since some data may be missing we incorporate a try-except to skip any that are missing a data point.\n",
    "        try:\n",
    "            hotel_df.loc[index, \"Hotel Name\"] = responseInfo[\"results\"][0][\"name\"]\n",
    "            hotel_df.loc[index, \"Country\"] = responseInfo[\"results\"][0][\"place_id\"]\n",
    "            counter += 1\n",
    "            if counter == 1:\n",
    "                break\n",
    "        except (KeyError, IndexError):\n",
    "            print(\"Hotel information not found. Skipping...\")\n",
    "        \n",
    "hotel_df"
   ]
  },
  {
   "cell_type": "markdown",
   "metadata": {},
   "source": [
    "# This section not worked, it was intended to find Country Name\n",
    "DOCUMENTATION SHOWED THE URL USED IN THIS SECTION AS THE ONE TO GET THE DETAILS OF THE ADDRESS, \n",
    "BUT THE JSON RESPONSE DID NOT SHOW THAT INFO\n",
    "SOURCE: https://developers.google.com/places/web-service/details#PlaceDetailsResponses\n",
    "\n",
    "--> params dictionary to update each iteration, trying to find COUNTRY\n",
    "params = {\"key\": g_key}\n",
    "\n",
    "--> Loop through the hotel_df and run PLACEID search for each Country\n",
    "for index, row in hotel_df.iterrows():\n",
    "    placeId = row[\"Country\"]\n",
    "    params['place_id'] = f\"{placeId}\"\n",
    "    \n",
    "    base_url = \"https://maps.googleapis.com/maps/api/place/details/json\"\n",
    "    responseCountry = requests.get(base_url, params=params)\n",
    "    responseCountry = responseCountry.json()\n",
    "    #print(json.dumps(responseInfo, indent=4, sort_keys=True))    \n",
    "   \n",
    "    hotel_df.loc[index, \"Country\"] = hotel_df[\"result\"][0][6][\"long_name\"]\n",
    "    hotel_df.head()"
   ]
  },
  {
   "cell_type": "code",
   "execution_count": null,
   "metadata": {},
   "outputs": [],
   "source": [
    "locations2 = hotel_df[[\"Latitude\", \"Longitude\"]]\n",
    "humid2 = hotel_df[\"Humidity\"]\n",
    "\n",
    "# Plot Heatmap\n",
    "fig = gmaps.figure()\n",
    "heat_layer = gmaps.heatmap_layer(locations2, weights=humid2, dissipating = False, max_intensity =1000, point_radius =10)\n",
    "fig.add_layer(heat_layer)\n",
    "fig"
   ]
  },
  {
   "cell_type": "code",
   "execution_count": null,
   "metadata": {},
   "outputs": [],
   "source": [
    "narrowed_city_df = hotel_df[[\"City\",\"Hotel Name\",\"Country\"]]\n",
    "# Visualize\n",
    "print(len(narrowed_city_df)) \n",
    "narrowed_city_df.head()"
   ]
  },
  {
   "cell_type": "code",
   "execution_count": null,
   "metadata": {},
   "outputs": [],
   "source": [
    "cityR = row[\"City\"]\n",
    "hotelR = row[\"Hotel Name\"]\n",
    "countryR = row[\"Country\"]"
   ]
  },
  {
   "cell_type": "code",
   "execution_count": null,
   "metadata": {},
   "outputs": [],
   "source": [
    "# NOTE: Do not change any of the code in this cell\n",
    "\n",
    "# Using the template add the hotel marks to the heatmap\n",
    "info_box_template = \"\"\"\n",
    "<dl>\n",
    "<dt>Name</dt><dd>{Hotel Name}</dd>\n",
    "<dt>City</dt><dd>{City}</dd>\n",
    "<dt>Country</dt><dd>{Country}</dd>\n",
    "</dl>\n",
    "\"\"\"\n",
    "# Store the DataFrame Row\n",
    "# NOTE: be sure to update with your DataFrame name\n",
    "hotel_info = [info_box_template.format(**row) for index, row in hotel_df.iterrows()]\n",
    "locations = hotel_df[[\"Latitude\", \"Longitude\"]]"
   ]
  },
  {
   "cell_type": "code",
   "execution_count": null,
   "metadata": {},
   "outputs": [],
   "source": [
    "# Add marker layer ontop of heat map\n",
    "fig = gmaps.figure()\n",
    "markers = gmaps.marker_layer(locations,info_box_content=(hotel_info))\n",
    "fig.add_layer(markers)\n",
    "fig\n",
    "\n",
    "# Display Map"
   ]
  },
  {
   "cell_type": "code",
   "execution_count": null,
   "metadata": {},
   "outputs": [],
   "source": []
  }
 ],
 "metadata": {
  "kernelspec": {
   "display_name": "Python 3",
   "language": "python",
   "name": "python3"
  },
  "language_info": {
   "codemirror_mode": {
    "name": "ipython",
    "version": 3
   },
   "file_extension": ".py",
   "mimetype": "text/x-python",
   "name": "python",
   "nbconvert_exporter": "python",
   "pygments_lexer": "ipython3",
   "version": "3.7.4"
  },
  "latex_envs": {
   "LaTeX_envs_menu_present": true,
   "autoclose": false,
   "autocomplete": true,
   "bibliofile": "biblio.bib",
   "cite_by": "apalike",
   "current_citInitial": 1,
   "eqLabelWithNumbers": true,
   "eqNumInitial": 1,
   "hotkeys": {
    "equation": "Ctrl-E",
    "itemize": "Ctrl-I"
   },
   "labels_anchors": false,
   "latex_user_defs": false,
   "report_style_numbering": false,
   "user_envs_cfg": false
  }
 },
 "nbformat": 4,
 "nbformat_minor": 2
}
