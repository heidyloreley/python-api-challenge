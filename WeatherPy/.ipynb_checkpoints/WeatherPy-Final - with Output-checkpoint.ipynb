{
 "cells": [
  {
   "cell_type": "markdown",
   "metadata": {},
   "source": [
    "# WeatherPy\n",
    "----\n",
    "\n",
    "#### Note\n",
    "* Instructions have been included for each segment. You do not have to follow them exactly, but they are included to help you think through the steps."
   ]
  },
  {
   "cell_type": "code",
   "execution_count": 1,
   "metadata": {
    "scrolled": true
   },
   "outputs": [],
   "source": [
    "# Dependencies and Setup\n",
    "import matplotlib.pyplot as plt\n",
    "import pandas as pd\n",
    "import numpy as np\n",
    "import requests\n",
    "import time\n",
    "from scipy.stats import linregress\n",
    "from pprint import pprint\n",
    "\n",
    "# Import API key\n",
    "from api_keys import weather_api_key\n",
    "\n",
    "# Incorporated citipy to determine city based on latitude and longitude\n",
    "from citipy import citipy\n",
    "\n",
    "# Output File (CSV)\n",
    "output_data_file = \"output_data/cities.csv\"\n",
    "\n",
    "# Range of latitudes and longitudes\n",
    "lat_range = (-90, 90)\n",
    "lng_range = (-180, 180)"
   ]
  },
  {
   "cell_type": "markdown",
   "metadata": {},
   "source": [
    "## Generate Cities List"
   ]
  },
  {
   "cell_type": "code",
   "execution_count": 2,
   "metadata": {},
   "outputs": [
    {
     "data": {
      "text/plain": [
       "629"
      ]
     },
     "execution_count": 2,
     "metadata": {},
     "output_type": "execute_result"
    }
   ],
   "source": [
    "# List for holding lat_lngs and cities\n",
    "lat_lngs = []\n",
    "cities = []\n",
    "\n",
    "# Create a set of random lat and lng combinations\n",
    "lats = np.random.uniform(low=-90.000, high=90.000, size=1500)\n",
    "lngs = np.random.uniform(low=-180.000, high=180.000, size=1500)\n",
    "lat_lngs = zip(lats, lngs)\n",
    "\n",
    "# Identify nearest city for each lat, lng combination\n",
    "for lat_lng in lat_lngs:\n",
    "    city = citipy.nearest_city(lat_lng[0], lat_lng[1]).city_name\n",
    "    \n",
    "    # If the city is unique, then add it to a our cities list\n",
    "    if city not in cities:\n",
    "        cities.append(city)\n",
    "\n",
    "# Print the city count to confirm sufficient count\n",
    "len(cities)"
   ]
  },
  {
   "cell_type": "markdown",
   "metadata": {},
   "source": [
    "### Perform API Calls\n",
    "* Perform a weather check on each city using a series of successive API calls.\n",
    "* Include a print log of each city as it'sbeing processed (with the city number and city name).\n"
   ]
  },
  {
   "cell_type": "code",
   "execution_count": 25,
   "metadata": {},
   "outputs": [],
   "source": [
    "#Create url to call by City to get Weather\n",
    "\n",
    "baseurl = \"http://api.openweathermap.org/data/2.5/weather?\"\n",
    "units = \"metric\"\n",
    "url = f\"{baseurl}appid={weather_api_key}&units={units}&q=\"\n",
    "\n",
    "# Create an empty list to store the responses\n",
    "\n",
    "temp = []  # para llenar una lista necestaria usar append\n",
    "cityID = []\n",
    "latitude = []\n",
    "humid = []\n",
    "cloud = []\n",
    "windSpeed = []\n",
    "cityName = []\n",
    "longitude = []\n",
    "\n",
    "# Keep record of the temp & IdNum of each city, as a LIST\n",
    "for city in cities:           # city is lookin for the position \n",
    "    response = requests.get(url + city).json()\n",
    "    try:\n",
    "        temp.append(response[\"main\"][\"temp\"])\n",
    "        cityID.append(response[\"id\"])\n",
    "        latitude.append(response[\"coord\"][\"lat\"])\n",
    "        humid.append(response[\"main\"][\"humidity\"])\n",
    "        cloud.append(response[\"clouds\"][\"all\"])\n",
    "        windSpeed.append(response[\"wind\"][\"speed\"])\n",
    "        longitude.append(response[\"coord\"][\"lon\"])\n",
    "        cityName.append(response[\"name\"])\n",
    "        for Temp in temp:\n",
    "            for ID in cityID:\n",
    "                continue\n",
    "        #print(f\"The wheather in {city} (ID number - {ID}), is {Temp}°C\")\n",
    "    except:\n",
    "        #print(\"City information not found. Skipping...\")\n",
    "        pass  #\n"
   ]
  },
  {
   "cell_type": "code",
   "execution_count": 26,
   "metadata": {},
   "outputs": [
    {
     "name": "stdout",
     "output_type": "stream",
     "text": [
      "Temp = 570\n",
      "cityID = 570\n",
      "latitude = 570\n",
      "humid = 570\n",
      "cloud = 570\n",
      "windSpeed = 570\n",
      "cityName = 570\n",
      "longitude = 570\n"
     ]
    }
   ],
   "source": [
    "print(f\"Temp = {len(temp)}\")\n",
    "print(f\"cityID = {len(cityID)}\")\n",
    "print(f\"latitude = {len(latitude)}\")\n",
    "print(f\"humid = {len(humid)}\")\n",
    "print(f\"cloud = {len(cloud)}\")\n",
    "print(f\"windSpeed = {len(windSpeed)}\")\n",
    "print(f\"cityName = {len(cityName)}\")\n",
    "print(f\"longitude = {len(longitude)}\")"
   ]
  },
  {
   "cell_type": "markdown",
   "metadata": {},
   "source": [
    "### Convert Raw Data to DataFrame\n",
    "* Export the city data into a .csv.\n",
    "* Display the DataFrame"
   ]
  },
  {
   "cell_type": "markdown",
   "metadata": {},
   "source": []
  },
  {
   "cell_type": "code",
   "execution_count": 71,
   "metadata": {},
   "outputs": [
    {
     "data": {
      "text/html": [
       "<div>\n",
       "<style scoped>\n",
       "    .dataframe tbody tr th:only-of-type {\n",
       "        vertical-align: middle;\n",
       "    }\n",
       "\n",
       "    .dataframe tbody tr th {\n",
       "        vertical-align: top;\n",
       "    }\n",
       "\n",
       "    .dataframe thead th {\n",
       "        text-align: right;\n",
       "    }\n",
       "</style>\n",
       "<table border=\"1\" class=\"dataframe\">\n",
       "  <thead>\n",
       "    <tr style=\"text-align: right;\">\n",
       "      <th></th>\n",
       "      <th>City ID Number</th>\n",
       "      <th>City</th>\n",
       "      <th>Latitude</th>\n",
       "      <th>Temperature</th>\n",
       "      <th>Humidity</th>\n",
       "      <th>Cloudiness</th>\n",
       "      <th>Wind Speed</th>\n",
       "      <th>Longitude</th>\n",
       "    </tr>\n",
       "  </thead>\n",
       "  <tbody>\n",
       "    <tr>\n",
       "      <td>0</td>\n",
       "      <td>3833367</td>\n",
       "      <td>Ushuaia</td>\n",
       "      <td>-54.80</td>\n",
       "      <td>11.00</td>\n",
       "      <td>76</td>\n",
       "      <td>40</td>\n",
       "      <td>4.10</td>\n",
       "      <td>-68.30</td>\n",
       "    </tr>\n",
       "    <tr>\n",
       "      <td>1</td>\n",
       "      <td>3874787</td>\n",
       "      <td>Punta Arenas</td>\n",
       "      <td>-53.15</td>\n",
       "      <td>12.89</td>\n",
       "      <td>87</td>\n",
       "      <td>100</td>\n",
       "      <td>6.70</td>\n",
       "      <td>-70.92</td>\n",
       "    </tr>\n",
       "    <tr>\n",
       "      <td>2</td>\n",
       "      <td>3652764</td>\n",
       "      <td>Puerto Ayora</td>\n",
       "      <td>-0.74</td>\n",
       "      <td>26.67</td>\n",
       "      <td>100</td>\n",
       "      <td>22</td>\n",
       "      <td>3.13</td>\n",
       "      <td>-90.35</td>\n",
       "    </tr>\n",
       "    <tr>\n",
       "      <td>3</td>\n",
       "      <td>2191562</td>\n",
       "      <td>Dunedin</td>\n",
       "      <td>-45.87</td>\n",
       "      <td>19.44</td>\n",
       "      <td>55</td>\n",
       "      <td>25</td>\n",
       "      <td>5.36</td>\n",
       "      <td>170.50</td>\n",
       "    </tr>\n",
       "    <tr>\n",
       "      <td>4</td>\n",
       "      <td>3194099</td>\n",
       "      <td>Opatija</td>\n",
       "      <td>45.34</td>\n",
       "      <td>9.47</td>\n",
       "      <td>66</td>\n",
       "      <td>75</td>\n",
       "      <td>7.20</td>\n",
       "      <td>14.31</td>\n",
       "    </tr>\n",
       "    <tr>\n",
       "      <td>...</td>\n",
       "      <td>...</td>\n",
       "      <td>...</td>\n",
       "      <td>...</td>\n",
       "      <td>...</td>\n",
       "      <td>...</td>\n",
       "      <td>...</td>\n",
       "      <td>...</td>\n",
       "      <td>...</td>\n",
       "    </tr>\n",
       "    <tr>\n",
       "      <td>565</td>\n",
       "      <td>3674292</td>\n",
       "      <td>Mosquera</td>\n",
       "      <td>4.71</td>\n",
       "      <td>12.00</td>\n",
       "      <td>93</td>\n",
       "      <td>85</td>\n",
       "      <td>1.00</td>\n",
       "      <td>-74.23</td>\n",
       "    </tr>\n",
       "    <tr>\n",
       "      <td>566</td>\n",
       "      <td>5069297</td>\n",
       "      <td>Grand Island</td>\n",
       "      <td>40.92</td>\n",
       "      <td>9.35</td>\n",
       "      <td>58</td>\n",
       "      <td>1</td>\n",
       "      <td>3.60</td>\n",
       "      <td>-98.34</td>\n",
       "    </tr>\n",
       "    <tr>\n",
       "      <td>567</td>\n",
       "      <td>1695546</td>\n",
       "      <td>Pandan</td>\n",
       "      <td>14.05</td>\n",
       "      <td>26.77</td>\n",
       "      <td>72</td>\n",
       "      <td>11</td>\n",
       "      <td>5.00</td>\n",
       "      <td>124.17</td>\n",
       "    </tr>\n",
       "    <tr>\n",
       "      <td>568</td>\n",
       "      <td>3943789</td>\n",
       "      <td>Chincha Alta</td>\n",
       "      <td>-13.41</td>\n",
       "      <td>22.38</td>\n",
       "      <td>83</td>\n",
       "      <td>75</td>\n",
       "      <td>7.20</td>\n",
       "      <td>-76.13</td>\n",
       "    </tr>\n",
       "    <tr>\n",
       "      <td>569</td>\n",
       "      <td>917688</td>\n",
       "      <td>Chongwe</td>\n",
       "      <td>-15.33</td>\n",
       "      <td>18.00</td>\n",
       "      <td>93</td>\n",
       "      <td>92</td>\n",
       "      <td>1.00</td>\n",
       "      <td>28.68</td>\n",
       "    </tr>\n",
       "  </tbody>\n",
       "</table>\n",
       "<p>570 rows × 8 columns</p>\n",
       "</div>"
      ],
      "text/plain": [
       "     City ID Number          City  Latitude  Temperature  Humidity  \\\n",
       "0           3833367       Ushuaia    -54.80        11.00        76   \n",
       "1           3874787  Punta Arenas    -53.15        12.89        87   \n",
       "2           3652764  Puerto Ayora     -0.74        26.67       100   \n",
       "3           2191562       Dunedin    -45.87        19.44        55   \n",
       "4           3194099       Opatija     45.34         9.47        66   \n",
       "..              ...           ...       ...          ...       ...   \n",
       "565         3674292      Mosquera      4.71        12.00        93   \n",
       "566         5069297  Grand Island     40.92         9.35        58   \n",
       "567         1695546        Pandan     14.05        26.77        72   \n",
       "568         3943789  Chincha Alta    -13.41        22.38        83   \n",
       "569          917688       Chongwe    -15.33        18.00        93   \n",
       "\n",
       "     Cloudiness  Wind Speed  Longitude  \n",
       "0            40        4.10     -68.30  \n",
       "1           100        6.70     -70.92  \n",
       "2            22        3.13     -90.35  \n",
       "3            25        5.36     170.50  \n",
       "4            75        7.20      14.31  \n",
       "..          ...         ...        ...  \n",
       "565          85        1.00     -74.23  \n",
       "566           1        3.60     -98.34  \n",
       "567          11        5.00     124.17  \n",
       "568          75        7.20     -76.13  \n",
       "569          92        1.00      28.68  \n",
       "\n",
       "[570 rows x 8 columns]"
      ]
     },
     "execution_count": 71,
     "metadata": {},
     "output_type": "execute_result"
    }
   ],
   "source": [
    "# Create Dictionary\n",
    "dictionary = {\n",
    "    \"City ID Number\":cityID,\"City\":cityName,\"Latitude\":latitude,\"Temperature\":temp,\n",
    "    \"Humidity\":humid,\"Cloudiness\": cloud,\"Wind Speed\":windSpeed,\"Longitude\":longitude}\n",
    "dictionary\n",
    "\n",
    "#Create DF\n",
    "cityInfoDF = pd.DataFrame(dictionary)\n",
    "cityInfoDF\n",
    "\n"
   ]
  },
  {
   "cell_type": "code",
   "execution_count": 72,
   "metadata": {},
   "outputs": [],
   "source": [
    "#Export to CSV\n",
    "cityInfoDF.to_csv(output_data_file)"
   ]
  },
  {
   "cell_type": "markdown",
   "metadata": {},
   "source": [
    "### Plotting the Data\n",
    "* Use proper labeling of the plots using plot titles (including date of analysis) and axes labels.\n",
    "* Save the plotted figures as .pngs."
   ]
  },
  {
   "cell_type": "code",
   "execution_count": 60,
   "metadata": {},
   "outputs": [
    {
     "name": "stdout",
     "output_type": "stream",
     "text": [
      "02/29/20\n"
     ]
    }
   ],
   "source": [
    "import datetime\n",
    "\n",
    "Date = datetime.datetime.now()\n",
    "Date =Date.strftime(\"%x\")\n",
    "print(Date)"
   ]
  },
  {
   "cell_type": "markdown",
   "metadata": {},
   "source": [
    "#### Latitude vs. Temperature Plot"
   ]
  },
  {
   "cell_type": "code",
   "execution_count": 1,
   "metadata": {
    "scrolled": true
   },
   "outputs": [
    {
     "ename": "NameError",
     "evalue": "name 'plt' is not defined",
     "output_type": "error",
     "traceback": [
      "\u001b[1;31m---------------------------------------------------------------------------\u001b[0m",
      "\u001b[1;31mNameError\u001b[0m                                 Traceback (most recent call last)",
      "\u001b[1;32m<ipython-input-1-6f687e954f74>\u001b[0m in \u001b[0;36m<module>\u001b[1;34m\u001b[0m\n\u001b[0;32m      1\u001b[0m \u001b[1;31m# Build a scatter plot\u001b[0m\u001b[1;33m\u001b[0m\u001b[1;33m\u001b[0m\u001b[1;33m\u001b[0m\u001b[0m\n\u001b[1;32m----> 2\u001b[1;33m \u001b[0mplt\u001b[0m\u001b[1;33m.\u001b[0m\u001b[0mscatter\u001b[0m\u001b[1;33m(\u001b[0m\u001b[0mcityInfoDF\u001b[0m\u001b[1;33m[\u001b[0m\u001b[1;34m\"Latitude\"\u001b[0m\u001b[1;33m]\u001b[0m\u001b[1;33m,\u001b[0m \u001b[0mcityInfoDF\u001b[0m\u001b[1;33m[\u001b[0m\u001b[1;34m\"Temperature\"\u001b[0m\u001b[1;33m]\u001b[0m\u001b[1;33m,\u001b[0m \u001b[0mmarker\u001b[0m\u001b[1;33m=\u001b[0m\u001b[1;34m\"o\"\u001b[0m\u001b[1;33m)\u001b[0m\u001b[1;33m\u001b[0m\u001b[1;33m\u001b[0m\u001b[0m\n\u001b[0m\u001b[0;32m      3\u001b[0m \u001b[1;33m\u001b[0m\u001b[0m\n\u001b[0;32m      4\u001b[0m \u001b[0mplt\u001b[0m\u001b[1;33m.\u001b[0m\u001b[0mtitle\u001b[0m\u001b[1;33m(\u001b[0m\u001b[1;34mf\"City Latitude VS Temperature {Date}\"\u001b[0m\u001b[1;33m)\u001b[0m\u001b[1;33m\u001b[0m\u001b[1;33m\u001b[0m\u001b[0m\n\u001b[0;32m      5\u001b[0m \u001b[0mplt\u001b[0m\u001b[1;33m.\u001b[0m\u001b[0mylabel\u001b[0m\u001b[1;33m(\u001b[0m\u001b[1;34m\"Temperature (Celsius)\"\u001b[0m\u001b[1;33m)\u001b[0m\u001b[1;33m\u001b[0m\u001b[1;33m\u001b[0m\u001b[0m\n",
      "\u001b[1;31mNameError\u001b[0m: name 'plt' is not defined"
     ]
    }
   ],
   "source": [
    "# Build a scatter plot \n",
    "plt.scatter(cityInfoDF[\"Latitude\"], cityInfoDF[\"Temperature\"], marker=\"o\")\n",
    "\n",
    "plt.title(f\"City Latitude VS Temperature {Date}\")\n",
    "plt.ylabel(\"Temperature (Celsius)\")\n",
    "plt.xlabel(\"Latitude\")\n",
    "plt.grid(True)\n",
    "\n",
    "# Save the figure\n",
    "plt.savefig(\"Lat_vs_Temp.png\")\n",
    "\n",
    "# Show plot\n",
    "plt.show()"
   ]
  },
  {
   "cell_type": "markdown",
   "metadata": {},
   "source": [
    "The closer the locations are to latitude 0, the most concentrated is the temperature between 20°C and 30°C. \n",
    "After latitude |40| temperature starts to decrease."
   ]
  },
  {
   "cell_type": "markdown",
   "metadata": {},
   "source": [
    "#### Latitude vs. Humidity Plot"
   ]
  },
  {
   "cell_type": "code",
   "execution_count": 62,
   "metadata": {},
   "outputs": [
    {
     "data": {
      "image/png": "[encoded data removed]",
      "text/plain": [
       "<Figure size 432x288 with 1 Axes>"
      ]
     },
     "metadata": {
      "needs_background": "light"
     },
     "output_type": "display_data"
    }
   ],
   "source": [
    "# Build a scatter plot \n",
    "plt.scatter(cityInfoDF[\"Latitude\"], cityInfoDF[\"Humidity\"], marker=\"o\")\n",
    "\n",
    "plt.title(f\"City Latitude VS Humidity {Date}\")\n",
    "plt.ylabel(\"Humidity (%)\")\n",
    "plt.xlabel(\"Latitude\")\n",
    "plt.grid(True)\n",
    "\n",
    "# Save the figure\n",
    "plt.savefig(\"Lat_vs_Humid.png\")\n",
    "\n",
    "# Show plot\n",
    "plt.show()"
   ]
  },
  {
   "cell_type": "markdown",
   "metadata": {},
   "source": [
    "It seems that along all latitudes, the humididty can be either low or high. \n",
    "Altough there is a greater concentration of high humidity (>60%) between 0 and |40| degrees of latitudes."
   ]
  },
  {
   "cell_type": "markdown",
   "metadata": {},
   "source": [
    "#### Latitude vs. Cloudiness Plot"
   ]
  },
  {
   "cell_type": "code",
   "execution_count": 63,
   "metadata": {},
   "outputs": [
    {
     "data": {
      "image/png": "[encoded data removed]",
      "text/plain": [
       "<Figure size 432x288 with 1 Axes>"
      ]
     },
     "metadata": {
      "needs_background": "light"
     },
     "output_type": "display_data"
    }
   ],
   "source": [
    "# Build a scatter plot \n",
    "plt.scatter(cityInfoDF[\"Latitude\"], cityInfoDF[\"Cloudiness\"], marker=\"o\")\n",
    "\n",
    "plt.title(f\"City Latitude VS Cloudiness {Date}\")\n",
    "plt.ylabel(\"Cloudiness (%)\")\n",
    "plt.xlabel(\"Latitude\")\n",
    "plt.grid(True)\n",
    "\n",
    "# Save the figure\n",
    "plt.savefig(\"Lat_vs_Cloud.png\")\n",
    "\n",
    "# Show plot\n",
    "plt.show()"
   ]
  },
  {
   "cell_type": "markdown",
   "metadata": {},
   "source": [
    "There seems to be no relationship between latitude and cloudiness."
   ]
  },
  {
   "cell_type": "markdown",
   "metadata": {},
   "source": [
    "#### Latitude vs. Wind Speed Plot"
   ]
  },
  {
   "cell_type": "code",
   "execution_count": 64,
   "metadata": {},
   "outputs": [
    {
     "data": {
      "image/png": "[encoded data removed]",
      "text/plain": [
       "<Figure size 432x288 with 1 Axes>"
      ]
     },
     "metadata": {
      "needs_background": "light"
     },
     "output_type": "display_data"
    }
   ],
   "source": [
    "# Build a scatter plot \n",
    "plt.scatter(cityInfoDF[\"Latitude\"], cityInfoDF[\"Wind Speed\"], marker=\"o\")\n",
    "\n",
    "plt.title(f\"City Latitude VS Wind Speed {Date}\")\n",
    "plt.ylabel(\"Wind Speed (mph)\")\n",
    "plt.xlabel(\"Latitude\")\n",
    "plt.grid(True)\n",
    "\n",
    "# Save the figure\n",
    "plt.savefig(\"Lat_vs_Wind.png\")\n",
    "\n",
    "# Show plot\n",
    "plt.show()"
   ]
  },
  {
   "cell_type": "markdown",
   "metadata": {},
   "source": [
    "Aparently, are only a few place with high wind speed (>8 mph), with a higher concentration of locations along all latitudes with low wind speed (<8 mph)."
   ]
  },
  {
   "cell_type": "markdown",
   "metadata": {},
   "source": [
    "## Linear Regression"
   ]
  },
  {
   "cell_type": "code",
   "execution_count": 65,
   "metadata": {},
   "outputs": [
    {
     "data": {
      "text/plain": [
       "{'Latitude': LinregressResult(slope=1.0, intercept=0.0, rvalue=1.0, pvalue=0.0, stderr=0.0),\n",
       " 'Temperature': LinregressResult(slope=-0.35819618745051934, intercept=19.10002452265392, rvalue=-0.790624308615677, pvalue=4.192541482689333e-123, stderr=0.011639705582543488),\n",
       " 'Humidity': LinregressResult(slope=0.06725079459771385, intercept=69.55634892251769, rvalue=0.10847557872778811, pvalue=0.009547925732940023, stderr=0.02585955000460592),\n",
       " 'Cloudiness': LinregressResult(slope=0.0802995661248635, intercept=46.08867331255869, rvalue=0.06678798311112981, pvalue=0.11120063736721533, stderr=0.0503349823769947),\n",
       " 'Wind Speed': LinregressResult(slope=0.005088480378127582, intercept=3.6758269635746035, rvalue=0.06525292262468685, pvalue=0.11967692641148331, stderr=0.0032650316335866712)}"
      ]
     },
     "execution_count": 65,
     "metadata": {},
     "output_type": "execute_result"
    }
   ],
   "source": [
    "# OPTIONAL: Create a function to create Linear Regression plots\n",
    "\n",
    "xLat = cityInfoDF.iloc[:,2]\n",
    "regress = {}\n",
    "\n",
    "for col in cityInfoDF.columns.values[2:]:\n",
    "    yValues = cityInfoDF[col]\n",
    "    formula = linregress(xLat, yValues)\n",
    "    regress[col] = formula\n",
    "\n",
    "regress"
   ]
  },
  {
   "cell_type": "code",
   "execution_count": 73,
   "metadata": {
    "collapsed": true
   },
   "outputs": [
    {
     "data": {
      "text/html": [
       "<div>\n",
       "<style scoped>\n",
       "    .dataframe tbody tr th:only-of-type {\n",
       "        vertical-align: middle;\n",
       "    }\n",
       "\n",
       "    .dataframe tbody tr th {\n",
       "        vertical-align: top;\n",
       "    }\n",
       "\n",
       "    .dataframe thead th {\n",
       "        text-align: right;\n",
       "    }\n",
       "</style>\n",
       "<table border=\"1\" class=\"dataframe\">\n",
       "  <thead>\n",
       "    <tr style=\"text-align: right;\">\n",
       "      <th></th>\n",
       "      <th>Latitude</th>\n",
       "      <th>Temperature</th>\n",
       "      <th>Humidity</th>\n",
       "      <th>Cloudiness</th>\n",
       "      <th>Wind Speed</th>\n",
       "    </tr>\n",
       "  </thead>\n",
       "  <tbody>\n",
       "    <tr>\n",
       "      <td>0</td>\n",
       "      <td>-54.80</td>\n",
       "      <td>11.00</td>\n",
       "      <td>76</td>\n",
       "      <td>40</td>\n",
       "      <td>4.10</td>\n",
       "    </tr>\n",
       "    <tr>\n",
       "      <td>1</td>\n",
       "      <td>-53.15</td>\n",
       "      <td>12.89</td>\n",
       "      <td>87</td>\n",
       "      <td>100</td>\n",
       "      <td>6.70</td>\n",
       "    </tr>\n",
       "    <tr>\n",
       "      <td>2</td>\n",
       "      <td>-0.74</td>\n",
       "      <td>26.67</td>\n",
       "      <td>100</td>\n",
       "      <td>22</td>\n",
       "      <td>3.13</td>\n",
       "    </tr>\n",
       "    <tr>\n",
       "      <td>3</td>\n",
       "      <td>-45.87</td>\n",
       "      <td>19.44</td>\n",
       "      <td>55</td>\n",
       "      <td>25</td>\n",
       "      <td>5.36</td>\n",
       "    </tr>\n",
       "    <tr>\n",
       "      <td>4</td>\n",
       "      <td>45.34</td>\n",
       "      <td>9.47</td>\n",
       "      <td>66</td>\n",
       "      <td>75</td>\n",
       "      <td>7.20</td>\n",
       "    </tr>\n",
       "  </tbody>\n",
       "</table>\n",
       "</div>"
      ],
      "text/plain": [
       "   Latitude  Temperature  Humidity  Cloudiness  Wind Speed\n",
       "0    -54.80        11.00        76          40        4.10\n",
       "1    -53.15        12.89        87         100        6.70\n",
       "2     -0.74        26.67       100          22        3.13\n",
       "3    -45.87        19.44        55          25        5.36\n",
       "4     45.34         9.47        66          75        7.20"
      ]
     },
     "execution_count": 73,
     "metadata": {},
     "output_type": "execute_result"
    }
   ],
   "source": [
    "#DF for North and South\n",
    "nsDF = cityInfoDF[[\"Latitude\",\"Temperature\",\"Humidity\",\"Cloudiness\",\"Wind Speed\"]]\n",
    "nsDF.head()"
   ]
  },
  {
   "cell_type": "code",
   "execution_count": 74,
   "metadata": {},
   "outputs": [
    {
     "data": {
      "text/html": [
       "<div>\n",
       "<style scoped>\n",
       "    .dataframe tbody tr th:only-of-type {\n",
       "        vertical-align: middle;\n",
       "    }\n",
       "\n",
       "    .dataframe tbody tr th {\n",
       "        vertical-align: top;\n",
       "    }\n",
       "\n",
       "    .dataframe thead th {\n",
       "        text-align: right;\n",
       "    }\n",
       "</style>\n",
       "<table border=\"1\" class=\"dataframe\">\n",
       "  <thead>\n",
       "    <tr style=\"text-align: right;\">\n",
       "      <th></th>\n",
       "      <th>Latitude</th>\n",
       "      <th>Temperature</th>\n",
       "      <th>Humidity</th>\n",
       "      <th>Cloudiness</th>\n",
       "      <th>Wind Speed</th>\n",
       "    </tr>\n",
       "  </thead>\n",
       "  <tbody>\n",
       "    <tr>\n",
       "      <td>4</td>\n",
       "      <td>45.34</td>\n",
       "      <td>9.47</td>\n",
       "      <td>66</td>\n",
       "      <td>75</td>\n",
       "      <td>7.20</td>\n",
       "    </tr>\n",
       "    <tr>\n",
       "      <td>5</td>\n",
       "      <td>47.67</td>\n",
       "      <td>-7.19</td>\n",
       "      <td>73</td>\n",
       "      <td>5</td>\n",
       "      <td>4.60</td>\n",
       "    </tr>\n",
       "    <tr>\n",
       "      <td>6</td>\n",
       "      <td>59.70</td>\n",
       "      <td>-1.65</td>\n",
       "      <td>92</td>\n",
       "      <td>75</td>\n",
       "      <td>3.00</td>\n",
       "    </tr>\n",
       "    <tr>\n",
       "      <td>7</td>\n",
       "      <td>63.56</td>\n",
       "      <td>-7.00</td>\n",
       "      <td>92</td>\n",
       "      <td>90</td>\n",
       "      <td>2.60</td>\n",
       "    </tr>\n",
       "    <tr>\n",
       "      <td>11</td>\n",
       "      <td>62.46</td>\n",
       "      <td>-24.82</td>\n",
       "      <td>75</td>\n",
       "      <td>20</td>\n",
       "      <td>3.60</td>\n",
       "    </tr>\n",
       "    <tr>\n",
       "      <td>...</td>\n",
       "      <td>...</td>\n",
       "      <td>...</td>\n",
       "      <td>...</td>\n",
       "      <td>...</td>\n",
       "      <td>...</td>\n",
       "    </tr>\n",
       "    <tr>\n",
       "      <td>562</td>\n",
       "      <td>21.28</td>\n",
       "      <td>21.79</td>\n",
       "      <td>65</td>\n",
       "      <td>0</td>\n",
       "      <td>9.58</td>\n",
       "    </tr>\n",
       "    <tr>\n",
       "      <td>563</td>\n",
       "      <td>60.47</td>\n",
       "      <td>-16.31</td>\n",
       "      <td>83</td>\n",
       "      <td>0</td>\n",
       "      <td>4.30</td>\n",
       "    </tr>\n",
       "    <tr>\n",
       "      <td>565</td>\n",
       "      <td>4.71</td>\n",
       "      <td>12.00</td>\n",
       "      <td>93</td>\n",
       "      <td>85</td>\n",
       "      <td>1.00</td>\n",
       "    </tr>\n",
       "    <tr>\n",
       "      <td>566</td>\n",
       "      <td>40.92</td>\n",
       "      <td>9.35</td>\n",
       "      <td>58</td>\n",
       "      <td>1</td>\n",
       "      <td>3.60</td>\n",
       "    </tr>\n",
       "    <tr>\n",
       "      <td>567</td>\n",
       "      <td>14.05</td>\n",
       "      <td>26.77</td>\n",
       "      <td>72</td>\n",
       "      <td>11</td>\n",
       "      <td>5.00</td>\n",
       "    </tr>\n",
       "  </tbody>\n",
       "</table>\n",
       "<p>379 rows × 5 columns</p>\n",
       "</div>"
      ],
      "text/plain": [
       "     Latitude  Temperature  Humidity  Cloudiness  Wind Speed\n",
       "4       45.34         9.47        66          75        7.20\n",
       "5       47.67        -7.19        73           5        4.60\n",
       "6       59.70        -1.65        92          75        3.00\n",
       "7       63.56        -7.00        92          90        2.60\n",
       "11      62.46       -24.82        75          20        3.60\n",
       "..        ...          ...       ...         ...         ...\n",
       "562     21.28        21.79        65           0        9.58\n",
       "563     60.47       -16.31        83           0        4.30\n",
       "565      4.71        12.00        93          85        1.00\n",
       "566     40.92         9.35        58           1        3.60\n",
       "567     14.05        26.77        72          11        5.00\n",
       "\n",
       "[379 rows x 5 columns]"
      ]
     },
     "execution_count": 74,
     "metadata": {},
     "output_type": "execute_result"
    }
   ],
   "source": [
    "# Create Northern and Southern Hemisphere DataFrames\n",
    "northdf = nsDF.loc[nsDF[\"Latitude\"]>0]\n",
    "northdf.count()\n",
    "northdf"
   ]
  },
  {
   "cell_type": "code",
   "execution_count": 75,
   "metadata": {},
   "outputs": [
    {
     "data": {
      "text/html": [
       "<div>\n",
       "<style scoped>\n",
       "    .dataframe tbody tr th:only-of-type {\n",
       "        vertical-align: middle;\n",
       "    }\n",
       "\n",
       "    .dataframe tbody tr th {\n",
       "        vertical-align: top;\n",
       "    }\n",
       "\n",
       "    .dataframe thead th {\n",
       "        text-align: right;\n",
       "    }\n",
       "</style>\n",
       "<table border=\"1\" class=\"dataframe\">\n",
       "  <thead>\n",
       "    <tr style=\"text-align: right;\">\n",
       "      <th></th>\n",
       "      <th>Latitude</th>\n",
       "      <th>Temperature</th>\n",
       "      <th>Humidity</th>\n",
       "      <th>Cloudiness</th>\n",
       "      <th>Wind Speed</th>\n",
       "    </tr>\n",
       "  </thead>\n",
       "  <tbody>\n",
       "    <tr>\n",
       "      <td>0</td>\n",
       "      <td>-54.80</td>\n",
       "      <td>11.00</td>\n",
       "      <td>76</td>\n",
       "      <td>40</td>\n",
       "      <td>4.10</td>\n",
       "    </tr>\n",
       "    <tr>\n",
       "      <td>1</td>\n",
       "      <td>-53.15</td>\n",
       "      <td>12.89</td>\n",
       "      <td>87</td>\n",
       "      <td>100</td>\n",
       "      <td>6.70</td>\n",
       "    </tr>\n",
       "    <tr>\n",
       "      <td>2</td>\n",
       "      <td>-0.74</td>\n",
       "      <td>26.67</td>\n",
       "      <td>100</td>\n",
       "      <td>22</td>\n",
       "      <td>3.13</td>\n",
       "    </tr>\n",
       "    <tr>\n",
       "      <td>3</td>\n",
       "      <td>-45.87</td>\n",
       "      <td>19.44</td>\n",
       "      <td>55</td>\n",
       "      <td>25</td>\n",
       "      <td>5.36</td>\n",
       "    </tr>\n",
       "    <tr>\n",
       "      <td>8</td>\n",
       "      <td>-33.65</td>\n",
       "      <td>22.30</td>\n",
       "      <td>34</td>\n",
       "      <td>69</td>\n",
       "      <td>7.12</td>\n",
       "    </tr>\n",
       "    <tr>\n",
       "      <td>...</td>\n",
       "      <td>...</td>\n",
       "      <td>...</td>\n",
       "      <td>...</td>\n",
       "      <td>...</td>\n",
       "      <td>...</td>\n",
       "    </tr>\n",
       "    <tr>\n",
       "      <td>559</td>\n",
       "      <td>-14.54</td>\n",
       "      <td>24.12</td>\n",
       "      <td>88</td>\n",
       "      <td>76</td>\n",
       "      <td>4.25</td>\n",
       "    </tr>\n",
       "    <tr>\n",
       "      <td>561</td>\n",
       "      <td>-4.97</td>\n",
       "      <td>21.51</td>\n",
       "      <td>94</td>\n",
       "      <td>100</td>\n",
       "      <td>1.15</td>\n",
       "    </tr>\n",
       "    <tr>\n",
       "      <td>564</td>\n",
       "      <td>-7.71</td>\n",
       "      <td>23.53</td>\n",
       "      <td>94</td>\n",
       "      <td>100</td>\n",
       "      <td>0.56</td>\n",
       "    </tr>\n",
       "    <tr>\n",
       "      <td>568</td>\n",
       "      <td>-13.41</td>\n",
       "      <td>22.38</td>\n",
       "      <td>83</td>\n",
       "      <td>75</td>\n",
       "      <td>7.20</td>\n",
       "    </tr>\n",
       "    <tr>\n",
       "      <td>569</td>\n",
       "      <td>-15.33</td>\n",
       "      <td>18.00</td>\n",
       "      <td>93</td>\n",
       "      <td>92</td>\n",
       "      <td>1.00</td>\n",
       "    </tr>\n",
       "  </tbody>\n",
       "</table>\n",
       "<p>191 rows × 5 columns</p>\n",
       "</div>"
      ],
      "text/plain": [
       "     Latitude  Temperature  Humidity  Cloudiness  Wind Speed\n",
       "0      -54.80        11.00        76          40        4.10\n",
       "1      -53.15        12.89        87         100        6.70\n",
       "2       -0.74        26.67       100          22        3.13\n",
       "3      -45.87        19.44        55          25        5.36\n",
       "8      -33.65        22.30        34          69        7.12\n",
       "..        ...          ...       ...         ...         ...\n",
       "559    -14.54        24.12        88          76        4.25\n",
       "561     -4.97        21.51        94         100        1.15\n",
       "564     -7.71        23.53        94         100        0.56\n",
       "568    -13.41        22.38        83          75        7.20\n",
       "569    -15.33        18.00        93          92        1.00\n",
       "\n",
       "[191 rows x 5 columns]"
      ]
     },
     "execution_count": 75,
     "metadata": {},
     "output_type": "execute_result"
    }
   ],
   "source": [
    "# Create Northern and Southern Hemisphere DataFrames\n",
    "southdf = nsDF.loc[nsDF[\"Latitude\"]<0]\n",
    "southdf"
   ]
  },
  {
   "cell_type": "code",
   "execution_count": 79,
   "metadata": {},
   "outputs": [
    {
     "data": {
      "text/plain": [
       "{'Temperature': LinregressResult(slope=-0.6905548567810407, intercept=33.33407644904528, rvalue=-0.9050736012566628, pvalue=4.543200892593224e-142, stderr=0.016710636539084518),\n",
       " 'Humidity': LinregressResult(slope=0.3531144641302358, intercept=55.90128622961593, rvalue=0.3336083394210791, pvalue=2.6447588967074816e-11, stderr=0.05139097553966498),\n",
       " 'Cloudiness': LinregressResult(slope=0.5841003734833528, intercept=21.639946839895668, rvalue=0.2903835992191934, pvalue=8.458727268318161e-09, stderr=0.09913247848126963),\n",
       " 'Wind Speed': LinregressResult(slope=0.0168553209288743, intercept=3.2384975750908986, rvalue=0.12462917767957633, pvalue=0.015193689029438304, stderr=0.006911102404589833)}"
      ]
     },
     "execution_count": 79,
     "metadata": {},
     "output_type": "execute_result"
    }
   ],
   "source": [
    "# Northern regression line \n",
    "\n",
    "xLatN = northdf.iloc[:,0]\n",
    "regressN = {}\n",
    "\n",
    "for col in northdf.columns.values[1:]:\n",
    "    yValuesN = northdf[col]\n",
    "    formulaN = linregress(xLatN, yValuesN)\n",
    "    regressN[col] = formulaN\n",
    "\n",
    "regressN"
   ]
  },
  {
   "cell_type": "code",
   "execution_count": 80,
   "metadata": {},
   "outputs": [
    {
     "data": {
      "text/plain": [
       "{'Temperature': LinregressResult(slope=0.16186876142665443, intercept=27.48978644916411, rvalue=0.37395390591696515, pvalue=9.88475596018922e-08, stderr=0.029201375201447288),\n",
       " 'Humidity': LinregressResult(slope=0.5719772334299402, intercept=85.71689815360956, rvalue=0.3810886440549409, pvalue=5.3634450642935204e-08, stderr=0.10093617336022284),\n",
       " 'Cloudiness': LinregressResult(slope=1.2282085424888012, intercept=80.91427891355667, rvalue=0.40852015892078164, pvalue=4.442823600962508e-09, stderr=0.19960858991372823),\n",
       " 'Wind Speed': LinregressResult(slope=-0.0582293836658335, intercept=2.276172262920867, rvalue=-0.31801363696763413, pvalue=7.355883972183503e-06, stderr=0.012627382753247427)}"
      ]
     },
     "execution_count": 80,
     "metadata": {},
     "output_type": "execute_result"
    }
   ],
   "source": [
    "# Southern regression line \n",
    "\n",
    "xLatS = southdf.iloc[:,0]\n",
    "regressS = {}\n",
    "\n",
    "for col in southdf.columns.values[1:]:\n",
    "    yValuesS = southdf[col]\n",
    "    formulaS = linregress(xLatS, yValuesS)\n",
    "    regressS[col] = formulaS\n",
    "\n",
    "regressS"
   ]
  },
  {
   "cell_type": "markdown",
   "metadata": {},
   "source": [
    "####  Northern Hemisphere - Max Temp vs. Latitude Linear Regression"
   ]
  },
  {
   "cell_type": "code",
   "execution_count": 81,
   "metadata": {},
   "outputs": [
    {
     "data": {
      "image/png": "[encoded data removed]",
      "text/plain": [
       "<Figure size 432x288 with 1 Axes>"
      ]
     },
     "metadata": {
      "needs_background": "light"
     },
     "output_type": "display_data"
    },
    {
     "name": "stdout",
     "output_type": "stream",
     "text": [
      "The linear regression model is based on the equation: y = -0.69x + 33.33\n",
      "The r squared is: -0.9050736012566628\n"
     ]
    }
   ],
   "source": [
    "# Linear regression is store in regress dictionary\n",
    "\n",
    "# SPECIFIC VALUE PER VARIABLE TO COMPARE\n",
    "slope,intercept,rvalue,pvalue,stderr = regressN[\"Temperature\"]   \n",
    "line_eqN = \"y = \" + str(round(slope,2)) + \"x + \" + str(round(intercept,2))\n",
    "\n",
    "# To get the line for plotting\n",
    "regress_valuesN = xLatN * slope + intercept\n",
    "\n",
    "# Plot scatter+ linear regression line\n",
    "plt.scatter(xLatN, yValuesN)\n",
    "plt.plot(xLatN,regress_valuesN,\"r-\")  # regression values are calculated from the line equation\n",
    "plt.annotate(line_eqN,(18,25),fontsize=10,color=\"red\") # to establish where is printing the formula in the plot\n",
    "\n",
    "plt.title(\"Latitude vs Temperature in the Northern Hemisphere\")\n",
    "plt.xlabel(\"Latitude\")\n",
    "plt.ylabel(\"Temperature (°Celcius)\")\n",
    "\n",
    "# Save the figure\n",
    "plt.savefig(\"Lat_vs_Temp_North.png\")\n",
    "\n",
    "plt.show()\n",
    "\n",
    "print(f\"The linear regression model is based on the equation: {line_eqN}\")\n",
    "print(f\"The r squared is: {rvalue}\")\n",
    "\n"
   ]
  },
  {
   "cell_type": "markdown",
   "metadata": {},
   "source": [
    "####  Southern Hemisphere - Max Temp vs. Latitude Linear Regression"
   ]
  },
  {
   "cell_type": "code",
   "execution_count": 82,
   "metadata": {},
   "outputs": [
    {
     "data": {
      "image/png": "[encoded data removed]",
      "text/plain": [
       "<Figure size 432x288 with 1 Axes>"
      ]
     },
     "metadata": {
      "needs_background": "light"
     },
     "output_type": "display_data"
    },
    {
     "name": "stdout",
     "output_type": "stream",
     "text": [
      "The linear regression model is based on the equation: y = 0.16x + 27.49\n",
      "The r squared is: 0.37395390591696515\n"
     ]
    }
   ],
   "source": [
    "# Linear regression is store in regress dictionary\n",
    "\n",
    "# SPECIFIC VALUE PER VARIABLE TO COMPARE\n",
    "slope,intercept,rvalue,pvalue,stderr = regressS[\"Temperature\"]   \n",
    "line_eqS = \"y = \" + str(round(slope,2)) + \"x + \" + str(round(intercept,2))\n",
    "\n",
    "# To get the line for plotting\n",
    "regress_valuesS = xLatS * slope + intercept\n",
    "\n",
    "# Plot scatter+ linear regression line\n",
    "plt.scatter(xLatS, yValuesS)\n",
    "plt.plot(xLatS,regress_valuesS,\"r-\")  # regression values are calculated from the line equation\n",
    "plt.annotate(line_eqS,(-40,15),fontsize=10,color=\"red\") # to establish where is printing the formula in the plot\n",
    "\n",
    "plt.title(\"Latitude vs Temperature in the Southern Hemisphere\")\n",
    "plt.xlabel(\"Latitude\")\n",
    "plt.ylabel(\"Temperature (°Celcius)\")\n",
    "\n",
    "# Save the figure\n",
    "plt.savefig(\"Lat_vs_Temp_South.png\")\n",
    "\n",
    "plt.show()\n",
    "\n",
    "\n",
    "print(f\"The linear regression model is based on the equation: {line_eqS}\")\n",
    "print(f\"The r squared is: {rvalue}\")\n"
   ]
  },
  {
   "cell_type": "markdown",
   "metadata": {},
   "source": [
    "Acording to the data, in both hemispheres the temperature is always between 0 an 10°C,no mather how close or far away form the equator the city is. \n",
    "In the first graph the linear equation model, does not represent the trend of the data, acordingly to the rsquared value. While the second one, has a better fit."
   ]
  },
  {
   "cell_type": "markdown",
   "metadata": {},
   "source": [
    "####  Northern Hemisphere - Humidity (%) vs. Latitude Linear Regression"
   ]
  },
  {
   "cell_type": "code",
   "execution_count": 83,
   "metadata": {},
   "outputs": [
    {
     "data": {
      "image/png": "[encoded data removed]",
      "text/plain": [
       "<Figure size 432x288 with 1 Axes>"
      ]
     },
     "metadata": {
      "needs_background": "light"
     },
     "output_type": "display_data"
    },
    {
     "name": "stdout",
     "output_type": "stream",
     "text": [
      "The linear regression model is based on the equation: y = 0.35x + 55.9\n",
      "The r squared is: 0.3336083394210791\n"
     ]
    }
   ],
   "source": [
    "# Linear regression is store in regress dictionary\n",
    "\n",
    "# SPECIFIC VALUE PER VARIABLE TO COMPARE\n",
    "slope,intercept,rvalue,pvalue,stderr = regressN[\"Humidity\"]   \n",
    "line_eqN = \"y = \" + str(round(slope,2)) + \"x + \" + str(round(intercept,2))\n",
    "\n",
    "# To get the line for plotting\n",
    "regress_valuesN = xLatN * slope + intercept\n",
    "\n",
    "# Plot scatter+ linear regression line\n",
    "plt.scatter(xLatN, yValuesN)\n",
    "plt.plot(xLatN,regress_valuesN,\"r-\")  # regression values are calculated from the line equation\n",
    "plt.annotate(line_eqN,(18,50),fontsize=10,color=\"red\") # to establish where is printing the formula in the plot\n",
    "\n",
    "plt.title(\"Latitude vs Humidity (%) in the Northern Hemisphere\")\n",
    "plt.xlabel(\"Latitude\")\n",
    "plt.ylabel(\"Humidity (%)\")\n",
    "\n",
    "# Save the figure\n",
    "plt.savefig(\"Lat_vs_Humid_North.png\")\n",
    "\n",
    "plt.show()\n",
    "\n",
    "print(f\"The linear regression model is based on the equation: {line_eqN}\")\n",
    "print(f\"The r squared is: {rvalue}\")"
   ]
  },
  {
   "cell_type": "markdown",
   "metadata": {},
   "source": [
    "####  Southern Hemisphere - Humidity (%) vs. Latitude Linear Regression"
   ]
  },
  {
   "cell_type": "code",
   "execution_count": 84,
   "metadata": {},
   "outputs": [
    {
     "data": {
      "image/png": "[encoded data removed]",
      "text/plain": [
       "<Figure size 432x288 with 1 Axes>"
      ]
     },
     "metadata": {
      "needs_background": "light"
     },
     "output_type": "display_data"
    },
    {
     "name": "stdout",
     "output_type": "stream",
     "text": [
      "The linear regression model is based on the equation: y = 0.57x + 85.72\n",
      "The r squared is: 0.3810886440549409\n"
     ]
    }
   ],
   "source": [
    "# Linear regression is store in regress dictionary\n",
    "\n",
    "# SPECIFIC VALUE PER VARIABLE TO COMPARE\n",
    "slope,intercept,rvalue,pvalue,stderr = regressS[\"Humidity\"]   \n",
    "line_eqS = \"y = \" + str(round(slope,2)) + \"x + \" + str(round(intercept,2))\n",
    "\n",
    "# To get the line for plotting\n",
    "regress_valuesS = xLatS * slope + intercept\n",
    "\n",
    "# Plot scatter+ linear regression line\n",
    "plt.scatter(xLatS, yValuesS)\n",
    "plt.plot(xLatS,regress_valuesS,\"r-\")  # regression values are calculated from the line equation\n",
    "plt.annotate(line_eqS,(-40,40),fontsize=10,color=\"red\") # to establish where is printing the formula in the plot\n",
    "\n",
    "plt.title(\"Latitude vs Humidity (%) in the Southern Hemisphere\")\n",
    "plt.xlabel(\"Latitude\")\n",
    "plt.ylabel(\"Humidity (%)\")\n",
    "\n",
    "# Save the figure\n",
    "plt.savefig(\"Lat_vs_Humid_South.png\")\n",
    "\n",
    "plt.show()\n",
    "\n",
    "\n",
    "print(f\"The linear regression model is based on the equation: {line_eqS}\")\n",
    "print(f\"The r squared is: {rvalue}\")"
   ]
  },
  {
   "cell_type": "markdown",
   "metadata": {},
   "source": [
    "In this case, the regression lines have a continuous direction. In the north one, the humidity decreases in lower latitudes (although information does not show that), an it continues like this in the south graph.\n",
    "In the south graph, data shows low level of humidity as well along all latitudes."
   ]
  },
  {
   "cell_type": "markdown",
   "metadata": {},
   "source": [
    "####  Northern Hemisphere - Cloudiness (%) vs. Latitude Linear Regression"
   ]
  },
  {
   "cell_type": "code",
   "execution_count": 85,
   "metadata": {},
   "outputs": [
    {
     "data": {
      "image/png": "[encoded data removed]",
      "text/plain": [
       "<Figure size 432x288 with 1 Axes>"
      ]
     },
     "metadata": {
      "needs_background": "light"
     },
     "output_type": "display_data"
    },
    {
     "name": "stdout",
     "output_type": "stream",
     "text": [
      "The linear regression model is based on the equation: y = 0.58x + 21.64\n",
      "The r squared is: 0.2903835992191934\n"
     ]
    }
   ],
   "source": [
    "# Linear regression is store in regress dictionary\n",
    "\n",
    "# SPECIFIC VALUE PER VARIABLE TO COMPARE\n",
    "slope,intercept,rvalue,pvalue,stderr = regressN[\"Cloudiness\"]   \n",
    "line_eqN = \"y = \" + str(round(slope,2)) + \"x + \" + str(round(intercept,2))\n",
    "\n",
    "# To get the line for plotting\n",
    "regress_valuesN = xLatN * slope + intercept\n",
    "\n",
    "# Plot scatter+ linear regression line\n",
    "plt.scatter(xLatN, yValuesN)\n",
    "plt.plot(xLatN,regress_valuesN,\"r-\")  # regression values are calculated from the line equation\n",
    "plt.annotate(line_eqN,(15,50),fontsize=10,color=\"red\") # to establish where is printing the formula in the plot\n",
    "\n",
    "plt.title(\"Latitude vs Cloudiness (%) in the Northern Hemisphere\")\n",
    "plt.xlabel(\"Latitude\")\n",
    "plt.ylabel(\"Cloudiness (%)\")\n",
    "\n",
    "# Save the figure\n",
    "plt.savefig(\"Lat_vs_Cloud_North.png\")\n",
    "\n",
    "plt.show()\n",
    "\n",
    "print(f\"The linear regression model is based on the equation: {line_eqN}\")\n",
    "print(f\"The r squared is: {rvalue}\")"
   ]
  },
  {
   "cell_type": "markdown",
   "metadata": {},
   "source": [
    "####  Southern Hemisphere - Cloudiness (%) vs. Latitude Linear Regression"
   ]
  },
  {
   "cell_type": "code",
   "execution_count": 86,
   "metadata": {},
   "outputs": [
    {
     "data": {
      "image/png": "[encoded data removed]",
      "text/plain": [
       "<Figure size 432x288 with 1 Axes>"
      ]
     },
     "metadata": {
      "needs_background": "light"
     },
     "output_type": "display_data"
    },
    {
     "name": "stdout",
     "output_type": "stream",
     "text": [
      "The linear regression model is based on the equation: y = 1.23x + 80.91\n",
      "The r squared is: 0.40852015892078164\n"
     ]
    }
   ],
   "source": [
    "# Linear regression is store in regress dictionary\n",
    "\n",
    "# SPECIFIC VALUE PER VARIABLE TO COMPARE\n",
    "slope,intercept,rvalue,pvalue,stderr = regressS[\"Cloudiness\"]   \n",
    "line_eqS = \"y = \" + str(round(slope,2)) + \"x + \" + str(round(intercept,2))\n",
    "\n",
    "# To get the line for plotting\n",
    "regress_valuesS = xLatS * slope + intercept\n",
    "\n",
    "# Plot scatter+ linear regression line\n",
    "plt.scatter(xLatS, yValuesS)\n",
    "plt.plot(xLatS,regress_valuesS,\"r-\")  # regression values are calculated from the line equation\n",
    "plt.annotate(line_eqS,(-40,15),fontsize=10,color=\"red\") # to establish where is printing the formula in the plot\n",
    "\n",
    "plt.title(\"Latitude vs Cloudiness (%) in the Southern Hemisphere\")\n",
    "plt.xlabel(\"Latitude\")\n",
    "plt.ylabel(\"Cloudiness (%)\")\n",
    "\n",
    "# Save the figure\n",
    "plt.savefig(\"Lat_vs_Cloud_South.png\")\n",
    "\n",
    "plt.show()\n",
    "\n",
    "\n",
    "print(f\"The linear regression model is based on the equation: {line_eqS}\")\n",
    "print(f\"The r squared is: {rvalue}\")"
   ]
  },
  {
   "cell_type": "markdown",
   "metadata": {},
   "source": [
    "In this case, both graphs show low values of cloudiness along all latitudes. \n",
    "The first linear regression suggest cloudiness should increase in higher latitudes (moving away from the equator), while the second one suggest, cloudiness should decrease while moving shouther from the equator. "
   ]
  },
  {
   "cell_type": "markdown",
   "metadata": {},
   "source": [
    "####  Northern Hemisphere - Wind Speed (mph) vs. Latitude Linear Regression"
   ]
  },
  {
   "cell_type": "code",
   "execution_count": 87,
   "metadata": {},
   "outputs": [
    {
     "data": {
      "image/png": "[encoded data removed]",
      "text/plain": [
       "<Figure size 432x288 with 1 Axes>"
      ]
     },
     "metadata": {
      "needs_background": "light"
     },
     "output_type": "display_data"
    },
    {
     "name": "stdout",
     "output_type": "stream",
     "text": [
      "The linear regression model is based on the equation: y = 0.02x + 3.24\n",
      "The r squared is: 0.12462917767957633\n"
     ]
    }
   ],
   "source": [
    "# Linear regression is store in regress dictionary\n",
    "\n",
    "# SPECIFIC VALUE PER VARIABLE TO COMPARE\n",
    "slope,intercept,rvalue,pvalue,stderr = regressN[\"Wind Speed\"]   \n",
    "line_eqN = \"y = \" + str(round(slope,2)) + \"x + \" + str(round(intercept,2))\n",
    "\n",
    "# To get the line for plotting\n",
    "regress_valuesN = xLatN * slope + intercept\n",
    "\n",
    "# Plot scatter+ linear regression line\n",
    "plt.scatter(xLatN, yValuesN)\n",
    "plt.plot(xLatN,regress_valuesN,\"r-\")  # regression values are calculated from the line equation\n",
    "plt.annotate(line_eqN,(15,4.4),fontsize=10,color=\"red\") # to establish where is printing the formula in the plot\n",
    "\n",
    "plt.title(\"Latitude vs Wind Speed (mph) in the Northern Hemisphere\")\n",
    "plt.xlabel(\"Latitude\")\n",
    "plt.ylabel(\"Wind Speed (mph)\")\n",
    "\n",
    "# Save the figure\n",
    "plt.savefig(\"Lat_vs_Wind_North.png\")\n",
    "\n",
    "plt.show()\n",
    "\n",
    "print(f\"The linear regression model is based on the equation: {line_eqN}\")\n",
    "print(f\"The r squared is: {rvalue}\")"
   ]
  },
  {
   "cell_type": "markdown",
   "metadata": {},
   "source": [
    "####  Southern Hemisphere - Wind Speed (mph) vs. Latitude Linear Regression"
   ]
  },
  {
   "cell_type": "code",
   "execution_count": 88,
   "metadata": {},
   "outputs": [
    {
     "data": {
      "image/png": "[encoded data removed]",
      "text/plain": [
       "<Figure size 432x288 with 1 Axes>"
      ]
     },
     "metadata": {
      "needs_background": "light"
     },
     "output_type": "display_data"
    },
    {
     "name": "stdout",
     "output_type": "stream",
     "text": [
      "The linear regression model is based on the equation: y = -0.06x + 2.28\n",
      "The r squared is: -0.31801363696763413\n"
     ]
    }
   ],
   "source": [
    "# Linear regression is store in regress dictionary\n",
    "\n",
    "# SPECIFIC VALUE PER VARIABLE TO COMPARE\n",
    "slope,intercept,rvalue,pvalue,stderr = regressS[\"Wind Speed\"]   \n",
    "line_eqS = \"y = \" + str(round(slope,2)) + \"x + \" + str(round(intercept,2))\n",
    "\n",
    "# To get the line for plotting\n",
    "regress_valuesS = xLatS * slope + intercept\n",
    "\n",
    "# Plot scatter+ linear regression line\n",
    "plt.scatter(xLatS, yValuesS)\n",
    "plt.plot(xLatS,regress_valuesS,\"r-\")  # regression values are calculated from the line equation\n",
    "plt.annotate(line_eqS,(-40,10),fontsize=10,color=\"red\") # to establish where is printing the formula in the plot\n",
    "\n",
    "plt.title(\"Latitude vs Wind Speed (mph) in the Southern Hemisphere\")\n",
    "plt.xlabel(\"Latitude\")\n",
    "plt.ylabel(\"Wind Speed (mph)\")\n",
    "\n",
    "# Save the figure\n",
    "plt.savefig(\"Lat_vs_Wind_South.png\")\n",
    "\n",
    "plt.show()\n",
    "\n",
    "\n",
    "print(f\"The linear regression model is based on the equation: {line_eqS}\")\n",
    "print(f\"The r squared is: {rvalue}\")"
   ]
  },
  {
   "cell_type": "markdown",
   "metadata": {},
   "source": [
    "In both cases, data is completely scatter, not showing any kind of relation between both variables (the second one, a little more). \n",
    "the linear regression in the second graph, does not represent the trend of the data, acordingly to the rsquared value. "
   ]
  }
 ],
 "metadata": {
  "anaconda-cloud": {},
  "kernel_info": {
   "name": "python3"
  },
  "kernelspec": {
   "display_name": "Python 3",
   "language": "python",
   "name": "python3"
  },
  "language_info": {
   "codemirror_mode": {
    "name": "ipython",
    "version": 3
   },
   "file_extension": ".py",
   "mimetype": "text/x-python",
   "name": "python",
   "nbconvert_exporter": "python",
   "pygments_lexer": "ipython3",
   "version": "3.7.4"
  },
  "latex_envs": {
   "LaTeX_envs_menu_present": true,
   "autoclose": false,
   "autocomplete": true,
   "bibliofile": "biblio.bib",
   "cite_by": "apalike",
   "current_citInitial": 1,
   "eqLabelWithNumbers": true,
   "eqNumInitial": 1,
   "hotkeys": {
    "equation": "Ctrl-E",
    "itemize": "Ctrl-I"
   },
   "labels_anchors": false,
   "latex_user_defs": false,
   "report_style_numbering": false,
   "user_envs_cfg": false
  },
  "nteract": {
   "version": "0.12.3"
  }
 },
 "nbformat": 4,
 "nbformat_minor": 2
}
