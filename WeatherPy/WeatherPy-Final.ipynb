{
 "cells": [
  {
   "cell_type": "markdown",
   "metadata": {},
   "source": [
    "# WeatherPy\n",
    "----\n",
    "\n",
    "#### Note\n",
    "* Instructions have been included for each segment. You do not have to follow them exactly, but they are included to help you think through the steps."
   ]
  },
  {
   "cell_type": "code",
   "execution_count": null,
   "metadata": {
    "scrolled": true
   },
   "outputs": [],
   "source": [
    "# Dependencies and Setup\n",
    "import matplotlib.pyplot as plt\n",
    "import pandas as pd\n",
    "import numpy as np\n",
    "import requests\n",
    "import time\n",
    "from scipy.stats import linregress\n",
    "from pprint import pprint\n",
    "\n",
    "# Import API key\n",
    "from api_keys import weather_api_key\n",
    "\n",
    "# Incorporated citipy to determine city based on latitude and longitude\n",
    "from citipy import citipy\n",
    "\n",
    "# Output File (CSV)\n",
    "output_data_file = \"output_data/cities.csv\"\n",
    "\n",
    "# Range of latitudes and longitudes\n",
    "lat_range = (-90, 90)\n",
    "lng_range = (-180, 180)"
   ]
  },
  {
   "cell_type": "markdown",
   "metadata": {},
   "source": [
    "## Generate Cities List"
   ]
  },
  {
   "cell_type": "code",
   "execution_count": null,
   "metadata": {},
   "outputs": [],
   "source": [
    "# List for holding lat_lngs and cities\n",
    "lat_lngs = []\n",
    "cities = []\n",
    "\n",
    "# Create a set of random lat and lng combinations\n",
    "lats = np.random.uniform(low=-90.000, high=90.000, size=1500)\n",
    "lngs = np.random.uniform(low=-180.000, high=180.000, size=1500)\n",
    "lat_lngs = zip(lats, lngs)\n",
    "\n",
    "# Identify nearest city for each lat, lng combination\n",
    "for lat_lng in lat_lngs:\n",
    "    city = citipy.nearest_city(lat_lng[0], lat_lng[1]).city_name\n",
    "    \n",
    "    # If the city is unique, then add it to a our cities list\n",
    "    if city not in cities:\n",
    "        cities.append(city)\n",
    "\n",
    "# Print the city count to confirm sufficient count\n",
    "len(cities)"
   ]
  },
  {
   "cell_type": "markdown",
   "metadata": {},
   "source": [
    "### Perform API Calls\n",
    "* Perform a weather check on each city using a series of successive API calls.\n",
    "* Include a print log of each city as it'sbeing processed (with the city number and city name).\n"
   ]
  },
  {
   "cell_type": "code",
   "execution_count": null,
   "metadata": {},
   "outputs": [],
   "source": [
    "#Create url to call by City to get Weather\n",
    "\n",
    "baseurl = \"http://api.openweathermap.org/data/2.5/weather?\"\n",
    "units = \"metric\"\n",
    "url = f\"{baseurl}appid={weather_api_key}&units={units}&q=\"\n",
    "\n",
    "# Create an empty list to store the responses\n",
    "\n",
    "temp = []  # para llenar una lista necestaria usar append\n",
    "cityID = []\n",
    "latitude = []\n",
    "humid = []\n",
    "cloud = []\n",
    "windSpeed = []\n",
    "cityName = []\n",
    "longitude = []\n",
    "\n",
    "# Keep record of the temp & IdNum of each city, as a LIST\n",
    "for city in cities:           # city is lookin for the position \n",
    "    response = requests.get(url + city).json()\n",
    "    try:\n",
    "        temp.append(response[\"main\"][\"temp\"])\n",
    "        cityID.append(response[\"id\"])\n",
    "        latitude.append(response[\"coord\"][\"lat\"])\n",
    "        humid.append(response[\"main\"][\"humidity\"])\n",
    "        cloud.append(response[\"clouds\"][\"all\"])\n",
    "        windSpeed.append(response[\"wind\"][\"speed\"])\n",
    "        longitude.append(response[\"coord\"][\"lon\"])\n",
    "        cityName.append(response[\"name\"])\n",
    "        for Temp in temp:\n",
    "            for ID in cityID:\n",
    "                continue\n",
    "        #print(f\"The wheather in {city} (ID number - {ID}), is {Temp}°C\")\n",
    "    except:\n",
    "        #print(\"City information not found. Skipping...\")\n",
    "        pass  #\n"
   ]
  },
  {
   "cell_type": "code",
   "execution_count": null,
   "metadata": {},
   "outputs": [],
   "source": [
    "print(f\"Temp = {len(temp)}\")\n",
    "print(f\"cityID = {len(cityID)}\")\n",
    "print(f\"latitude = {len(latitude)}\")\n",
    "print(f\"humid = {len(humid)}\")\n",
    "print(f\"cloud = {len(cloud)}\")\n",
    "print(f\"windSpeed = {len(windSpeed)}\")\n",
    "print(f\"cityName = {len(cityName)}\")\n",
    "print(f\"longitude = {len(longitude)}\")"
   ]
  },
  {
   "cell_type": "markdown",
   "metadata": {},
   "source": [
    "### Convert Raw Data to DataFrame\n",
    "* Export the city data into a .csv.\n",
    "* Display the DataFrame"
   ]
  },
  {
   "cell_type": "markdown",
   "metadata": {},
   "source": []
  },
  {
   "cell_type": "code",
   "execution_count": null,
   "metadata": {},
   "outputs": [],
   "source": [
    "# Create Dictionary\n",
    "dictionary = {\n",
    "    \"City ID Number\":cityID,\"City\":cityName,\"Latitude\":latitude,\"Temperature\":temp,\n",
    "    \"Humidity\":humid,\"Cloudiness\": cloud,\"Wind Speed\":windSpeed,\"Longitude\":longitude}\n",
    "dictionary\n",
    "\n",
    "#Create DF\n",
    "cityInfoDF = pd.DataFrame(dictionary)\n",
    "cityInfoDF\n",
    "\n"
   ]
  },
  {
   "cell_type": "code",
   "execution_count": null,
   "metadata": {},
   "outputs": [],
   "source": [
    "#Export to CSV\n",
    "cityInfoDF.to_csv(output_data_file)"
   ]
  },
  {
   "cell_type": "markdown",
   "metadata": {},
   "source": [
    "### Plotting the Data\n",
    "* Use proper labeling of the plots using plot titles (including date of analysis) and axes labels.\n",
    "* Save the plotted figures as .pngs."
   ]
  },
  {
   "cell_type": "code",
   "execution_count": null,
   "metadata": {},
   "outputs": [],
   "source": [
    "import datetime\n",
    "\n",
    "Date = datetime.datetime.now()\n",
    "Date =Date.strftime(\"%x\")\n",
    "print(Date)"
   ]
  },
  {
   "cell_type": "markdown",
   "metadata": {},
   "source": [
    "#### Latitude vs. Temperature Plot"
   ]
  },
  {
   "cell_type": "code",
   "execution_count": null,
   "metadata": {
    "scrolled": true
   },
   "outputs": [],
   "source": [
    "# Build a scatter plot \n",
    "plt.scatter(cityInfoDF[\"Latitude\"], cityInfoDF[\"Temperature\"], marker=\"o\")\n",
    "\n",
    "plt.title(f\"City Latitude VS Temperature {Date}\")\n",
    "plt.ylabel(\"Temperature (Celsius)\")\n",
    "plt.xlabel(\"Latitude\")\n",
    "plt.grid(True)\n",
    "\n",
    "# Save the figure\n",
    "plt.savefig(\"Lat_vs_Temp.png\")\n",
    "\n",
    "# Show plot\n",
    "plt.show()"
   ]
  },
  {
   "cell_type": "markdown",
   "metadata": {},
   "source": [
    "The closer the locations are to latitude 0, the most concentrated is the temperature between 20°C and 30°C. \n",
    "After latitude |40| temperature starts to decrease."
   ]
  },
  {
   "cell_type": "markdown",
   "metadata": {},
   "source": [
    "#### Latitude vs. Humidity Plot"
   ]
  },
  {
   "cell_type": "code",
   "execution_count": null,
   "metadata": {},
   "outputs": [],
   "source": [
    "# Build a scatter plot \n",
    "plt.scatter(cityInfoDF[\"Latitude\"], cityInfoDF[\"Humidity\"], marker=\"o\")\n",
    "\n",
    "plt.title(f\"City Latitude VS Humidity {Date}\")\n",
    "plt.ylabel(\"Humidity (%)\")\n",
    "plt.xlabel(\"Latitude\")\n",
    "plt.grid(True)\n",
    "\n",
    "# Save the figure\n",
    "plt.savefig(\"Lat_vs_Humid.png\")\n",
    "\n",
    "# Show plot\n",
    "plt.show()"
   ]
  },
  {
   "cell_type": "markdown",
   "metadata": {},
   "source": [
    "It seems that along all latitudes, the humididty can be either low or high. \n",
    "Altough there is a greater concentration of high humidity (>60%) between 0 and |40| degrees of latitudes."
   ]
  },
  {
   "cell_type": "markdown",
   "metadata": {},
   "source": [
    "#### Latitude vs. Cloudiness Plot"
   ]
  },
  {
   "cell_type": "code",
   "execution_count": null,
   "metadata": {},
   "outputs": [],
   "source": [
    "# Build a scatter plot \n",
    "plt.scatter(cityInfoDF[\"Latitude\"], cityInfoDF[\"Cloudiness\"], marker=\"o\")\n",
    "\n",
    "plt.title(f\"City Latitude VS Cloudiness {Date}\")\n",
    "plt.ylabel(\"Cloudiness (%)\")\n",
    "plt.xlabel(\"Latitude\")\n",
    "plt.grid(True)\n",
    "\n",
    "# Save the figure\n",
    "plt.savefig(\"Lat_vs_Cloud.png\")\n",
    "\n",
    "# Show plot\n",
    "plt.show()"
   ]
  },
  {
   "cell_type": "markdown",
   "metadata": {},
   "source": [
    "There seems to be no relationship between latitude and cloudiness."
   ]
  },
  {
   "cell_type": "markdown",
   "metadata": {},
   "source": [
    "#### Latitude vs. Wind Speed Plot"
   ]
  },
  {
   "cell_type": "code",
   "execution_count": null,
   "metadata": {},
   "outputs": [],
   "source": [
    "# Build a scatter plot \n",
    "plt.scatter(cityInfoDF[\"Latitude\"], cityInfoDF[\"Wind Speed\"], marker=\"o\")\n",
    "\n",
    "plt.title(f\"City Latitude VS Wind Speed {Date}\")\n",
    "plt.ylabel(\"Wind Speed (mph)\")\n",
    "plt.xlabel(\"Latitude\")\n",
    "plt.grid(True)\n",
    "\n",
    "# Save the figure\n",
    "plt.savefig(\"Lat_vs_Wind.png\")\n",
    "\n",
    "# Show plot\n",
    "plt.show()"
   ]
  },
  {
   "cell_type": "markdown",
   "metadata": {},
   "source": [
    "Aparently, are only a few place with high wind speed (>8 mph), with a higher concentration of locations along all latitudes with low wind speed (<8 mph)."
   ]
  },
  {
   "cell_type": "markdown",
   "metadata": {},
   "source": [
    "## Linear Regression"
   ]
  },
  {
   "cell_type": "code",
   "execution_count": null,
   "metadata": {},
   "outputs": [],
   "source": [
    "# OPTIONAL: Create a function to create Linear Regression plots\n",
    "\n",
    "xLat = cityInfoDF.iloc[:,2]\n",
    "regress = {}\n",
    "\n",
    "for col in cityInfoDF.columns.values[2:]:\n",
    "    yValues = cityInfoDF[col]\n",
    "    formula = linregress(xLat, yValues)\n",
    "    regress[col] = formula\n",
    "\n",
    "regress"
   ]
  },
  {
   "cell_type": "code",
   "execution_count": null,
   "metadata": {},
   "outputs": [],
   "source": [
    "#DF for North and South\n",
    "nsDF = cityInfoDF[[\"Latitude\",\"Temperature\",\"Humidity\",\"Cloudiness\",\"Wind Speed\"]]\n",
    "nsDF.head()"
   ]
  },
  {
   "cell_type": "code",
   "execution_count": null,
   "metadata": {},
   "outputs": [],
   "source": [
    "# Create Northern and Southern Hemisphere DataFrames\n",
    "northdf = nsDF.loc[nsDF[\"Latitude\"]>0]\n",
    "northdf.count()\n",
    "northdf"
   ]
  },
  {
   "cell_type": "code",
   "execution_count": null,
   "metadata": {},
   "outputs": [],
   "source": [
    "# Create Northern and Southern Hemisphere DataFrames\n",
    "southdf = nsDF.loc[nsDF[\"Latitude\"]<0]\n",
    "southdf"
   ]
  },
  {
   "cell_type": "code",
   "execution_count": null,
   "metadata": {},
   "outputs": [],
   "source": [
    "# Northern regression line \n",
    "\n",
    "xLatN = northdf.iloc[:,0]\n",
    "regressN = {}\n",
    "\n",
    "for col in northdf.columns.values[1:]:\n",
    "    yValuesN = northdf[col]\n",
    "    formulaN = linregress(xLatN, yValuesN)\n",
    "    regressN[col] = formulaN\n",
    "\n",
    "regressN"
   ]
  },
  {
   "cell_type": "code",
   "execution_count": null,
   "metadata": {},
   "outputs": [],
   "source": [
    "# Southern regression line \n",
    "\n",
    "xLatS = southdf.iloc[:,0]\n",
    "regressS = {}\n",
    "\n",
    "for col in southdf.columns.values[1:]:\n",
    "    yValuesS = southdf[col]\n",
    "    formulaS = linregress(xLatS, yValuesS)\n",
    "    regressS[col] = formulaS\n",
    "\n",
    "regressS"
   ]
  },
  {
   "cell_type": "markdown",
   "metadata": {},
   "source": [
    "####  Northern Hemisphere - Max Temp vs. Latitude Linear Regression"
   ]
  },
  {
   "cell_type": "code",
   "execution_count": null,
   "metadata": {},
   "outputs": [],
   "source": [
    "# Linear regression is store in regress dictionary\n",
    "\n",
    "# SPECIFIC VALUE PER VARIABLE TO COMPARE\n",
    "slope,intercept,rvalue,pvalue,stderr = regressN[\"Temperature\"]   \n",
    "line_eqN = \"y = \" + str(round(slope,2)) + \"x + \" + str(round(intercept,2))\n",
    "\n",
    "# To get the line for plotting\n",
    "regress_valuesN = xLatN * slope + intercept\n",
    "\n",
    "# Plot scatter+ linear regression line\n",
    "plt.scatter(xLatN, yValuesN)\n",
    "plt.plot(xLatN,regress_valuesN,\"r-\")  # regression values are calculated from the line equation\n",
    "plt.annotate(line_eqN,(18,25),fontsize=10,color=\"red\") # to establish where is printing the formula in the plot\n",
    "\n",
    "plt.title(\"Latitude vs Temperature in the Northern Hemisphere\")\n",
    "plt.xlabel(\"Latitude\")\n",
    "plt.ylabel(\"Temperature (°Celcius)\")\n",
    "\n",
    "# Save the figure\n",
    "plt.savefig(\"Lat_vs_Temp_North.png\")\n",
    "\n",
    "plt.show()\n",
    "\n",
    "print(f\"The linear regression model is based on the equation: {line_eqN}\")\n",
    "print(f\"The r squared is: {rvalue}\")\n",
    "\n"
   ]
  },
  {
   "cell_type": "markdown",
   "metadata": {},
   "source": [
    "####  Southern Hemisphere - Max Temp vs. Latitude Linear Regression"
   ]
  },
  {
   "cell_type": "code",
   "execution_count": null,
   "metadata": {},
   "outputs": [],
   "source": [
    "# Linear regression is store in regress dictionary\n",
    "\n",
    "# SPECIFIC VALUE PER VARIABLE TO COMPARE\n",
    "slope,intercept,rvalue,pvalue,stderr = regressS[\"Temperature\"]   \n",
    "line_eqS = \"y = \" + str(round(slope,2)) + \"x + \" + str(round(intercept,2))\n",
    "\n",
    "# To get the line for plotting\n",
    "regress_valuesS = xLatS * slope + intercept\n",
    "\n",
    "# Plot scatter+ linear regression line\n",
    "plt.scatter(xLatS, yValuesS)\n",
    "plt.plot(xLatS,regress_valuesS,\"r-\")  # regression values are calculated from the line equation\n",
    "plt.annotate(line_eqS,(-40,15),fontsize=10,color=\"red\") # to establish where is printing the formula in the plot\n",
    "\n",
    "plt.title(\"Latitude vs Temperature in the Southern Hemisphere\")\n",
    "plt.xlabel(\"Latitude\")\n",
    "plt.ylabel(\"Temperature (°Celcius)\")\n",
    "\n",
    "# Save the figure\n",
    "plt.savefig(\"Lat_vs_Temp_South.png\")\n",
    "\n",
    "plt.show()\n",
    "\n",
    "\n",
    "print(f\"The linear regression model is based on the equation: {line_eqS}\")\n",
    "print(f\"The r squared is: {rvalue}\")\n"
   ]
  },
  {
   "cell_type": "markdown",
   "metadata": {},
   "source": [
    "Acording to the data, in both hemispheres the temperature is always between 0 an 10°C,no mather how close or far away form the equator the city is. \n",
    "In the first graph the linear equation model, does not represent the trend of the data, acordingly to the rsquared value. While the second one, has a better fit."
   ]
  },
  {
   "cell_type": "markdown",
   "metadata": {},
   "source": [
    "####  Northern Hemisphere - Humidity (%) vs. Latitude Linear Regression"
   ]
  },
  {
   "cell_type": "code",
   "execution_count": null,
   "metadata": {},
   "outputs": [],
   "source": [
    "# Linear regression is store in regress dictionary\n",
    "\n",
    "# SPECIFIC VALUE PER VARIABLE TO COMPARE\n",
    "slope,intercept,rvalue,pvalue,stderr = regressN[\"Humidity\"]   \n",
    "line_eqN = \"y = \" + str(round(slope,2)) + \"x + \" + str(round(intercept,2))\n",
    "\n",
    "# To get the line for plotting\n",
    "regress_valuesN = xLatN * slope + intercept\n",
    "\n",
    "# Plot scatter+ linear regression line\n",
    "plt.scatter(xLatN, yValuesN)\n",
    "plt.plot(xLatN,regress_valuesN,\"r-\")  # regression values are calculated from the line equation\n",
    "plt.annotate(line_eqN,(18,50),fontsize=10,color=\"red\") # to establish where is printing the formula in the plot\n",
    "\n",
    "plt.title(\"Latitude vs Humidity (%) in the Northern Hemisphere\")\n",
    "plt.xlabel(\"Latitude\")\n",
    "plt.ylabel(\"Humidity (%)\")\n",
    "\n",
    "# Save the figure\n",
    "plt.savefig(\"Lat_vs_Humid_North.png\")\n",
    "\n",
    "plt.show()\n",
    "\n",
    "print(f\"The linear regression model is based on the equation: {line_eqN}\")\n",
    "print(f\"The r squared is: {rvalue}\")"
   ]
  },
  {
   "cell_type": "markdown",
   "metadata": {},
   "source": [
    "####  Southern Hemisphere - Humidity (%) vs. Latitude Linear Regression"
   ]
  },
  {
   "cell_type": "code",
   "execution_count": null,
   "metadata": {},
   "outputs": [],
   "source": [
    "# Linear regression is store in regress dictionary\n",
    "\n",
    "# SPECIFIC VALUE PER VARIABLE TO COMPARE\n",
    "slope,intercept,rvalue,pvalue,stderr = regressS[\"Humidity\"]   \n",
    "line_eqS = \"y = \" + str(round(slope,2)) + \"x + \" + str(round(intercept,2))\n",
    "\n",
    "# To get the line for plotting\n",
    "regress_valuesS = xLatS * slope + intercept\n",
    "\n",
    "# Plot scatter+ linear regression line\n",
    "plt.scatter(xLatS, yValuesS)\n",
    "plt.plot(xLatS,regress_valuesS,\"r-\")  # regression values are calculated from the line equation\n",
    "plt.annotate(line_eqS,(-40,40),fontsize=10,color=\"red\") # to establish where is printing the formula in the plot\n",
    "\n",
    "plt.title(\"Latitude vs Humidity (%) in the Southern Hemisphere\")\n",
    "plt.xlabel(\"Latitude\")\n",
    "plt.ylabel(\"Humidity (%)\")\n",
    "\n",
    "# Save the figure\n",
    "plt.savefig(\"Lat_vs_Humid_South.png\")\n",
    "\n",
    "plt.show()\n",
    "\n",
    "\n",
    "print(f\"The linear regression model is based on the equation: {line_eqS}\")\n",
    "print(f\"The r squared is: {rvalue}\")"
   ]
  },
  {
   "cell_type": "markdown",
   "metadata": {},
   "source": [
    "In this case, the regression lines have a continuous direction. In the north one, the humidity decreases in lower latitudes (although information does not show that), an it continues like this in the south graph.\n",
    "In the south graph, data shows low level of humidity as well along all latitudes."
   ]
  },
  {
   "cell_type": "markdown",
   "metadata": {},
   "source": [
    "####  Northern Hemisphere - Cloudiness (%) vs. Latitude Linear Regression"
   ]
  },
  {
   "cell_type": "code",
   "execution_count": null,
   "metadata": {},
   "outputs": [],
   "source": [
    "# Linear regression is store in regress dictionary\n",
    "\n",
    "# SPECIFIC VALUE PER VARIABLE TO COMPARE\n",
    "slope,intercept,rvalue,pvalue,stderr = regressN[\"Cloudiness\"]   \n",
    "line_eqN = \"y = \" + str(round(slope,2)) + \"x + \" + str(round(intercept,2))\n",
    "\n",
    "# To get the line for plotting\n",
    "regress_valuesN = xLatN * slope + intercept\n",
    "\n",
    "# Plot scatter+ linear regression line\n",
    "plt.scatter(xLatN, yValuesN)\n",
    "plt.plot(xLatN,regress_valuesN,\"r-\")  # regression values are calculated from the line equation\n",
    "plt.annotate(line_eqN,(15,50),fontsize=10,color=\"red\") # to establish where is printing the formula in the plot\n",
    "\n",
    "plt.title(\"Latitude vs Cloudiness (%) in the Northern Hemisphere\")\n",
    "plt.xlabel(\"Latitude\")\n",
    "plt.ylabel(\"Cloudiness (%)\")\n",
    "\n",
    "# Save the figure\n",
    "plt.savefig(\"Lat_vs_Cloud_North.png\")\n",
    "\n",
    "plt.show()\n",
    "\n",
    "print(f\"The linear regression model is based on the equation: {line_eqN}\")\n",
    "print(f\"The r squared is: {rvalue}\")"
   ]
  },
  {
   "cell_type": "markdown",
   "metadata": {},
   "source": [
    "####  Southern Hemisphere - Cloudiness (%) vs. Latitude Linear Regression"
   ]
  },
  {
   "cell_type": "code",
   "execution_count": null,
   "metadata": {},
   "outputs": [],
   "source": [
    "# Linear regression is store in regress dictionary\n",
    "\n",
    "# SPECIFIC VALUE PER VARIABLE TO COMPARE\n",
    "slope,intercept,rvalue,pvalue,stderr = regressS[\"Cloudiness\"]   \n",
    "line_eqS = \"y = \" + str(round(slope,2)) + \"x + \" + str(round(intercept,2))\n",
    "\n",
    "# To get the line for plotting\n",
    "regress_valuesS = xLatS * slope + intercept\n",
    "\n",
    "# Plot scatter+ linear regression line\n",
    "plt.scatter(xLatS, yValuesS)\n",
    "plt.plot(xLatS,regress_valuesS,\"r-\")  # regression values are calculated from the line equation\n",
    "plt.annotate(line_eqS,(-40,15),fontsize=10,color=\"red\") # to establish where is printing the formula in the plot\n",
    "\n",
    "plt.title(\"Latitude vs Cloudiness (%) in the Southern Hemisphere\")\n",
    "plt.xlabel(\"Latitude\")\n",
    "plt.ylabel(\"Cloudiness (%)\")\n",
    "\n",
    "# Save the figure\n",
    "plt.savefig(\"Lat_vs_Cloud_South.png\")\n",
    "\n",
    "plt.show()\n",
    "\n",
    "\n",
    "print(f\"The linear regression model is based on the equation: {line_eqS}\")\n",
    "print(f\"The r squared is: {rvalue}\")"
   ]
  },
  {
   "cell_type": "markdown",
   "metadata": {},
   "source": [
    "In this case, both graphs show low values of cloudiness along all latitudes. \n",
    "The first linear regression suggest cloudiness should increase in higher latitudes (moving away from the equator), while the second one suggest, cloudiness should decrease while moving shouther from the equator. "
   ]
  },
  {
   "cell_type": "markdown",
   "metadata": {},
   "source": [
    "####  Northern Hemisphere - Wind Speed (mph) vs. Latitude Linear Regression"
   ]
  },
  {
   "cell_type": "code",
   "execution_count": null,
   "metadata": {},
   "outputs": [],
   "source": [
    "# Linear regression is store in regress dictionary\n",
    "\n",
    "# SPECIFIC VALUE PER VARIABLE TO COMPARE\n",
    "slope,intercept,rvalue,pvalue,stderr = regressN[\"Wind Speed\"]   \n",
    "line_eqN = \"y = \" + str(round(slope,2)) + \"x + \" + str(round(intercept,2))\n",
    "\n",
    "# To get the line for plotting\n",
    "regress_valuesN = xLatN * slope + intercept\n",
    "\n",
    "# Plot scatter+ linear regression line\n",
    "plt.scatter(xLatN, yValuesN)\n",
    "plt.plot(xLatN,regress_valuesN,\"r-\")  # regression values are calculated from the line equation\n",
    "plt.annotate(line_eqN,(15,4.4),fontsize=10,color=\"red\") # to establish where is printing the formula in the plot\n",
    "\n",
    "plt.title(\"Latitude vs Wind Speed (mph) in the Northern Hemisphere\")\n",
    "plt.xlabel(\"Latitude\")\n",
    "plt.ylabel(\"Wind Speed (mph)\")\n",
    "\n",
    "# Save the figure\n",
    "plt.savefig(\"Lat_vs_Wind_North.png\")\n",
    "\n",
    "plt.show()\n",
    "\n",
    "print(f\"The linear regression model is based on the equation: {line_eqN}\")\n",
    "print(f\"The r squared is: {rvalue}\")"
   ]
  },
  {
   "cell_type": "markdown",
   "metadata": {},
   "source": [
    "####  Southern Hemisphere - Wind Speed (mph) vs. Latitude Linear Regression"
   ]
  },
  {
   "cell_type": "code",
   "execution_count": null,
   "metadata": {},
   "outputs": [],
   "source": [
    "# Linear regression is store in regress dictionary\n",
    "\n",
    "# SPECIFIC VALUE PER VARIABLE TO COMPARE\n",
    "slope,intercept,rvalue,pvalue,stderr = regressS[\"Wind Speed\"]   \n",
    "line_eqS = \"y = \" + str(round(slope,2)) + \"x + \" + str(round(intercept,2))\n",
    "\n",
    "# To get the line for plotting\n",
    "regress_valuesS = xLatS * slope + intercept\n",
    "\n",
    "# Plot scatter+ linear regression line\n",
    "plt.scatter(xLatS, yValuesS)\n",
    "plt.plot(xLatS,regress_valuesS,\"r-\")  # regression values are calculated from the line equation\n",
    "plt.annotate(line_eqS,(-40,10),fontsize=10,color=\"red\") # to establish where is printing the formula in the plot\n",
    "\n",
    "plt.title(\"Latitude vs Wind Speed (mph) in the Southern Hemisphere\")\n",
    "plt.xlabel(\"Latitude\")\n",
    "plt.ylabel(\"Wind Speed (mph)\")\n",
    "\n",
    "# Save the figure\n",
    "plt.savefig(\"Lat_vs_Wind_South.png\")\n",
    "\n",
    "plt.show()\n",
    "\n",
    "\n",
    "print(f\"The linear regression model is based on the equation: {line_eqS}\")\n",
    "print(f\"The r squared is: {rvalue}\")"
   ]
  },
  {
   "cell_type": "markdown",
   "metadata": {},
   "source": [
    "In both cases, data is completely scatter, not showing any kind of relation between both variables (the second one, a little more). \n",
    "the linear regression in the second graph, does not represent the trend of the data, acordingly to the rsquared value. "
   ]
  }
 ],
 "metadata": {
  "anaconda-cloud": {},
  "kernel_info": {
   "name": "python3"
  },
  "kernelspec": {
   "display_name": "Python 3",
   "language": "python",
   "name": "python3"
  },
  "language_info": {
   "codemirror_mode": {
    "name": "ipython",
    "version": 3
   },
   "file_extension": ".py",
   "mimetype": "text/x-python",
   "name": "python",
   "nbconvert_exporter": "python",
   "pygments_lexer": "ipython3",
   "version": "3.7.4"
  },
  "latex_envs": {
   "LaTeX_envs_menu_present": true,
   "autoclose": false,
   "autocomplete": true,
   "bibliofile": "biblio.bib",
   "cite_by": "apalike",
   "current_citInitial": 1,
   "eqLabelWithNumbers": true,
   "eqNumInitial": 1,
   "hotkeys": {
    "equation": "Ctrl-E",
    "itemize": "Ctrl-I"
   },
   "labels_anchors": false,
   "latex_user_defs": false,
   "report_style_numbering": false,
   "user_envs_cfg": false
  },
  "nteract": {
   "version": "0.12.3"
  }
 },
 "nbformat": 4,
 "nbformat_minor": 2
}
